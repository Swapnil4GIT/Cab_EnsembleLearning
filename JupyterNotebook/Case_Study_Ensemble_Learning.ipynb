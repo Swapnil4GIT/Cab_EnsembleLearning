{
 "cells": [
  {
   "cell_type": "markdown",
   "id": "e840c11e",
   "metadata": {},
   "source": [
    "## Case Study : Ensemble Learning"
   ]
  },
  {
   "cell_type": "markdown",
   "id": "2b2c3b6e",
   "metadata": {},
   "source": [
    "### Problem Statement:\n",
    "Predict the cab driver's decision of staying or leaving the company. Also determine the high influence parameters responsible for the employee's churn decision"
   ]
  },
  {
   "cell_type": "code",
   "execution_count": 1,
   "id": "9cd598b8",
   "metadata": {},
   "outputs": [],
   "source": [
    "#Import Libraries\n",
    "\n",
    "import pandas as pd\n",
    "import numpy as np\n",
    "import matplotlib.pyplot as plt\n",
    "from sklearn.impute import KNNImputer\n",
    "import seaborn as sns\n",
    "import warnings"
   ]
  },
  {
   "cell_type": "code",
   "execution_count": 2,
   "id": "e2b05213",
   "metadata": {},
   "outputs": [],
   "source": [
    "#Ignore warning messages and set grid style for graphs\n",
    "\n",
    "warnings.filterwarnings('ignore')\n",
    "sns.set_style('darkgrid')"
   ]
  },
  {
   "cell_type": "code",
   "execution_count": 3,
   "id": "cd750899",
   "metadata": {},
   "outputs": [],
   "source": [
    "#Read dataframe\n",
    "\n",
    "df = pd.read_csv('train.csv')"
   ]
  },
  {
   "cell_type": "code",
   "execution_count": 4,
   "id": "65a740fe",
   "metadata": {},
   "outputs": [
    {
     "data": {
      "text/plain": [
       "(19104, 14)"
      ]
     },
     "execution_count": 4,
     "metadata": {},
     "output_type": "execute_result"
    }
   ],
   "source": [
    "#Print shape \n",
    "\n",
    "df.shape"
   ]
  },
  {
   "cell_type": "code",
   "execution_count": 5,
   "id": "ce8e2f98",
   "metadata": {},
   "outputs": [
    {
     "data": {
      "text/html": [
       "<div>\n",
       "<style scoped>\n",
       "    .dataframe tbody tr th:only-of-type {\n",
       "        vertical-align: middle;\n",
       "    }\n",
       "\n",
       "    .dataframe tbody tr th {\n",
       "        vertical-align: top;\n",
       "    }\n",
       "\n",
       "    .dataframe thead th {\n",
       "        text-align: right;\n",
       "    }\n",
       "</style>\n",
       "<table border=\"1\" class=\"dataframe\">\n",
       "  <thead>\n",
       "    <tr style=\"text-align: right;\">\n",
       "      <th></th>\n",
       "      <th>Unnamed: 0</th>\n",
       "      <th>MMM-YY</th>\n",
       "      <th>Driver_ID</th>\n",
       "      <th>Age</th>\n",
       "      <th>Gender</th>\n",
       "      <th>City</th>\n",
       "      <th>Education_Level</th>\n",
       "      <th>Income</th>\n",
       "      <th>Dateofjoining</th>\n",
       "      <th>LastWorkingDate</th>\n",
       "      <th>Joining Designation</th>\n",
       "      <th>Grade</th>\n",
       "      <th>Total Business Value</th>\n",
       "      <th>Quarterly Rating</th>\n",
       "    </tr>\n",
       "  </thead>\n",
       "  <tbody>\n",
       "    <tr>\n",
       "      <th>0</th>\n",
       "      <td>0</td>\n",
       "      <td>01/01/19</td>\n",
       "      <td>1</td>\n",
       "      <td>28.0</td>\n",
       "      <td>0.0</td>\n",
       "      <td>C23</td>\n",
       "      <td>2</td>\n",
       "      <td>57387</td>\n",
       "      <td>24/12/18</td>\n",
       "      <td>NaN</td>\n",
       "      <td>1</td>\n",
       "      <td>1</td>\n",
       "      <td>2381060</td>\n",
       "      <td>2</td>\n",
       "    </tr>\n",
       "    <tr>\n",
       "      <th>1</th>\n",
       "      <td>1</td>\n",
       "      <td>02/01/19</td>\n",
       "      <td>1</td>\n",
       "      <td>28.0</td>\n",
       "      <td>0.0</td>\n",
       "      <td>C23</td>\n",
       "      <td>2</td>\n",
       "      <td>57387</td>\n",
       "      <td>24/12/18</td>\n",
       "      <td>NaN</td>\n",
       "      <td>1</td>\n",
       "      <td>1</td>\n",
       "      <td>-665480</td>\n",
       "      <td>2</td>\n",
       "    </tr>\n",
       "    <tr>\n",
       "      <th>2</th>\n",
       "      <td>2</td>\n",
       "      <td>03/01/19</td>\n",
       "      <td>1</td>\n",
       "      <td>28.0</td>\n",
       "      <td>0.0</td>\n",
       "      <td>C23</td>\n",
       "      <td>2</td>\n",
       "      <td>57387</td>\n",
       "      <td>24/12/18</td>\n",
       "      <td>03/11/19</td>\n",
       "      <td>1</td>\n",
       "      <td>1</td>\n",
       "      <td>0</td>\n",
       "      <td>2</td>\n",
       "    </tr>\n",
       "    <tr>\n",
       "      <th>3</th>\n",
       "      <td>3</td>\n",
       "      <td>11/01/20</td>\n",
       "      <td>2</td>\n",
       "      <td>31.0</td>\n",
       "      <td>0.0</td>\n",
       "      <td>C7</td>\n",
       "      <td>2</td>\n",
       "      <td>67016</td>\n",
       "      <td>11/06/20</td>\n",
       "      <td>NaN</td>\n",
       "      <td>2</td>\n",
       "      <td>2</td>\n",
       "      <td>0</td>\n",
       "      <td>1</td>\n",
       "    </tr>\n",
       "    <tr>\n",
       "      <th>4</th>\n",
       "      <td>4</td>\n",
       "      <td>12/01/20</td>\n",
       "      <td>2</td>\n",
       "      <td>31.0</td>\n",
       "      <td>0.0</td>\n",
       "      <td>C7</td>\n",
       "      <td>2</td>\n",
       "      <td>67016</td>\n",
       "      <td>11/06/20</td>\n",
       "      <td>NaN</td>\n",
       "      <td>2</td>\n",
       "      <td>2</td>\n",
       "      <td>0</td>\n",
       "      <td>1</td>\n",
       "    </tr>\n",
       "  </tbody>\n",
       "</table>\n",
       "</div>"
      ],
      "text/plain": [
       "   Unnamed: 0    MMM-YY  Driver_ID   Age  Gender City  Education_Level  \\\n",
       "0           0  01/01/19          1  28.0     0.0  C23                2   \n",
       "1           1  02/01/19          1  28.0     0.0  C23                2   \n",
       "2           2  03/01/19          1  28.0     0.0  C23                2   \n",
       "3           3  11/01/20          2  31.0     0.0   C7                2   \n",
       "4           4  12/01/20          2  31.0     0.0   C7                2   \n",
       "\n",
       "   Income Dateofjoining LastWorkingDate  Joining Designation  Grade  \\\n",
       "0   57387      24/12/18             NaN                    1      1   \n",
       "1   57387      24/12/18             NaN                    1      1   \n",
       "2   57387      24/12/18        03/11/19                    1      1   \n",
       "3   67016      11/06/20             NaN                    2      2   \n",
       "4   67016      11/06/20             NaN                    2      2   \n",
       "\n",
       "   Total Business Value  Quarterly Rating  \n",
       "0               2381060                 2  \n",
       "1               -665480                 2  \n",
       "2                     0                 2  \n",
       "3                     0                 1  \n",
       "4                     0                 1  "
      ]
     },
     "execution_count": 5,
     "metadata": {},
     "output_type": "execute_result"
    }
   ],
   "source": [
    "#Glimpse of data\n",
    "\n",
    "df.head()"
   ]
  },
  {
   "cell_type": "code",
   "execution_count": 6,
   "id": "3f9da249",
   "metadata": {},
   "outputs": [
    {
     "name": "stdout",
     "output_type": "stream",
     "text": [
      "<class 'pandas.core.frame.DataFrame'>\n",
      "RangeIndex: 19104 entries, 0 to 19103\n",
      "Data columns (total 14 columns):\n",
      " #   Column                Non-Null Count  Dtype  \n",
      "---  ------                --------------  -----  \n",
      " 0   Unnamed: 0            19104 non-null  int64  \n",
      " 1   MMM-YY                19104 non-null  object \n",
      " 2   Driver_ID             19104 non-null  int64  \n",
      " 3   Age                   19043 non-null  float64\n",
      " 4   Gender                19052 non-null  float64\n",
      " 5   City                  19104 non-null  object \n",
      " 6   Education_Level       19104 non-null  int64  \n",
      " 7   Income                19104 non-null  int64  \n",
      " 8   Dateofjoining         19104 non-null  object \n",
      " 9   LastWorkingDate       1616 non-null   object \n",
      " 10  Joining Designation   19104 non-null  int64  \n",
      " 11  Grade                 19104 non-null  int64  \n",
      " 12  Total Business Value  19104 non-null  int64  \n",
      " 13  Quarterly Rating      19104 non-null  int64  \n",
      "dtypes: float64(2), int64(8), object(4)\n",
      "memory usage: 2.0+ MB\n"
     ]
    }
   ],
   "source": [
    "#Data info - datatypes and null/notnull analysis\n",
    "\n",
    "df.info()"
   ]
  },
  {
   "cell_type": "markdown",
   "id": "3e255a58",
   "metadata": {},
   "source": [
    "#### Feature Engineering"
   ]
  },
  {
   "cell_type": "code",
   "execution_count": 7,
   "id": "ed62a4fb",
   "metadata": {},
   "outputs": [],
   "source": [
    "#Drop unwanted column\n",
    "\n",
    "df = df.drop(['Unnamed: 0'], axis=1)"
   ]
  },
  {
   "cell_type": "code",
   "execution_count": 8,
   "id": "7fc72f7e",
   "metadata": {},
   "outputs": [],
   "source": [
    "#Make date columns as pandas datetime columns \n",
    "\n",
    "df['MMM-YY'] = pd.to_datetime(df['MMM-YY'])\n",
    "df['Dateofjoining'] = pd.to_datetime(df['Dateofjoining'])"
   ]
  },
  {
   "cell_type": "code",
   "execution_count": 9,
   "id": "0069070a",
   "metadata": {},
   "outputs": [
    {
     "name": "stdout",
     "output_type": "stream",
     "text": [
      "<class 'pandas.core.frame.DataFrame'>\n",
      "RangeIndex: 19104 entries, 0 to 19103\n",
      "Data columns (total 13 columns):\n",
      " #   Column                Non-Null Count  Dtype         \n",
      "---  ------                --------------  -----         \n",
      " 0   MMM-YY                19104 non-null  datetime64[ns]\n",
      " 1   Driver_ID             19104 non-null  int64         \n",
      " 2   Age                   19043 non-null  float64       \n",
      " 3   Gender                19052 non-null  float64       \n",
      " 4   City                  19104 non-null  object        \n",
      " 5   Education_Level       19104 non-null  int64         \n",
      " 6   Income                19104 non-null  int64         \n",
      " 7   Dateofjoining         19104 non-null  datetime64[ns]\n",
      " 8   LastWorkingDate       1616 non-null   object        \n",
      " 9   Joining Designation   19104 non-null  int64         \n",
      " 10  Grade                 19104 non-null  int64         \n",
      " 11  Total Business Value  19104 non-null  int64         \n",
      " 12  Quarterly Rating      19104 non-null  int64         \n",
      "dtypes: datetime64[ns](2), float64(2), int64(7), object(2)\n",
      "memory usage: 1.9+ MB\n"
     ]
    }
   ],
   "source": [
    "#Re-check the column datatypes\n",
    "\n",
    "df.info()"
   ]
  },
  {
   "cell_type": "markdown",
   "id": "263a30ae",
   "metadata": {},
   "source": [
    "#### Missing values check and treatment"
   ]
  },
  {
   "cell_type": "code",
   "execution_count": 10,
   "id": "515743f1",
   "metadata": {},
   "outputs": [
    {
     "data": {
      "text/plain": [
       "MMM-YY                      0\n",
       "Driver_ID                   0\n",
       "Age                        61\n",
       "Gender                     52\n",
       "City                        0\n",
       "Education_Level             0\n",
       "Income                      0\n",
       "Dateofjoining               0\n",
       "LastWorkingDate         17488\n",
       "Joining Designation         0\n",
       "Grade                       0\n",
       "Total Business Value        0\n",
       "Quarterly Rating            0\n",
       "dtype: int64"
      ]
     },
     "execution_count": 10,
     "metadata": {},
     "output_type": "execute_result"
    }
   ],
   "source": [
    "#Check null values\n",
    "\n",
    "df.isna().sum()"
   ]
  },
  {
   "cell_type": "code",
   "execution_count": 11,
   "id": "138f1def",
   "metadata": {},
   "outputs": [],
   "source": [
    "#KNN imputer\n",
    "#Apply only to numeric column i.e. Age\n",
    "\n",
    "imputer = KNNImputer(n_neighbors=5)\n",
    "df['Age'] = imputer.fit_transform(df['Age'].values.reshape(-1,1))\n",
    "# df['Gender'] = imputer.fit_transform(df['Gender'].values.reshape(-1,1))"
   ]
  },
  {
   "cell_type": "code",
   "execution_count": 12,
   "id": "ae0ec0fc",
   "metadata": {},
   "outputs": [],
   "source": [
    "#Fill gender null values with category 3\n",
    "\n",
    "df['Gender'] = df['Gender'].fillna(3.0)"
   ]
  },
  {
   "cell_type": "code",
   "execution_count": 13,
   "id": "62eec09b",
   "metadata": {},
   "outputs": [
    {
     "data": {
      "text/plain": [
       "MMM-YY                      0\n",
       "Driver_ID                   0\n",
       "Age                         0\n",
       "Gender                      0\n",
       "City                        0\n",
       "Education_Level             0\n",
       "Income                      0\n",
       "Dateofjoining               0\n",
       "LastWorkingDate         17488\n",
       "Joining Designation         0\n",
       "Grade                       0\n",
       "Total Business Value        0\n",
       "Quarterly Rating            0\n",
       "dtype: int64"
      ]
     },
     "execution_count": 13,
     "metadata": {},
     "output_type": "execute_result"
    }
   ],
   "source": [
    "#Re-check null values\n",
    "\n",
    "df.isna().sum()"
   ]
  },
  {
   "cell_type": "markdown",
   "id": "24f0259d",
   "metadata": {},
   "source": [
    "#### Feature engineering: Aggregrate rows based on driver id"
   ]
  },
  {
   "cell_type": "code",
   "execution_count": 14,
   "id": "56961743",
   "metadata": {},
   "outputs": [],
   "source": [
    "#Aggregate total business value by driver id\n",
    "\n",
    "df1 = df.groupby(['Driver_ID']).sum()['Total Business Value'].reset_index()"
   ]
  },
  {
   "cell_type": "code",
   "execution_count": 15,
   "id": "bc6071c9",
   "metadata": {},
   "outputs": [],
   "source": [
    "#Get Last row of each driver id report record\n",
    "\n",
    "df2 = df.groupby(['Driver_ID']).last()['LastWorkingDate'].reset_index()\n",
    "df2['target'] = df2['LastWorkingDate'].isna()\n",
    "tar = {False:1, True:0}\n",
    "df2['target'] = df2['target'].map(tar)"
   ]
  },
  {
   "cell_type": "code",
   "execution_count": 16,
   "id": "b364c5e3",
   "metadata": {},
   "outputs": [],
   "source": [
    "#Prepare column for increased income or not\n",
    "\n",
    "df3 = df.groupby(['Driver_ID']).first()['Income'].reset_index()\n",
    "df4 = df.groupby(['Driver_ID']).last()['Income'].reset_index()\n",
    "df5 = pd.merge(df3,df4,how='inner',on='Driver_ID')\n",
    "df5['Increased_income'] = df5['Income_y'] > df5['Income_x']\n",
    "inc = {False:0, True:1}\n",
    "df5['Increased_income'] = df5['Increased_income'].map(inc)"
   ]
  },
  {
   "cell_type": "code",
   "execution_count": 17,
   "id": "7831deac",
   "metadata": {},
   "outputs": [],
   "source": [
    "#Prepare the column for increased rating or not\n",
    "\n",
    "df6 = df.groupby(['Driver_ID']).first()['Quarterly Rating'].reset_index()\n",
    "df7 = df.groupby(['Driver_ID']).last()['Quarterly Rating'].reset_index()\n",
    "df8 = pd.merge(df6,df7,how='inner',on='Driver_ID')\n",
    "df8['Increased_rating'] = df8['Quarterly Rating_y'] > df8['Quarterly Rating_x']\n",
    "inc = {False:0, True:1}\n",
    "df8['Increased_rating'] = df8['Increased_rating'].map(inc)"
   ]
  },
  {
   "cell_type": "code",
   "execution_count": 18,
   "id": "3f1592a6",
   "metadata": {},
   "outputs": [],
   "source": [
    "#Get the columns which do not need aggregration\n",
    "\n",
    "df9 = df.groupby(['Driver_ID']).first().reset_index()\n",
    "df9 = df9[['MMM-YY'\n",
    "        ,'Driver_ID'\n",
    "        ,'Age'\n",
    "        ,'Gender'\n",
    "        ,'City'\n",
    "        ,'Education_Level'\n",
    "        ,'Dateofjoining'\n",
    "        ,'Joining Designation'\n",
    "        ,'Grade']]"
   ]
  },
  {
   "cell_type": "code",
   "execution_count": 19,
   "id": "1efbc1f8",
   "metadata": {},
   "outputs": [
    {
     "data": {
      "text/plain": [
       "((2381, 3), (2381, 4), (2381, 4), (2381, 9))"
      ]
     },
     "execution_count": 19,
     "metadata": {},
     "output_type": "execute_result"
    }
   ],
   "source": [
    "#Get shape of all dfs\n",
    "\n",
    "df2.shape, df5.shape, df8.shape, df9.shape"
   ]
  },
  {
   "cell_type": "code",
   "execution_count": 20,
   "id": "2d666429",
   "metadata": {},
   "outputs": [],
   "source": [
    "#Merge dfs based on driver id\n",
    "\n",
    "final_df1 = pd.merge(df2,df5\n",
    "                    ,how='inner'\n",
    "                    ,on='Driver_ID')\n",
    "\n",
    "final_df2 = pd.merge(df8,df9\n",
    "                    ,how='inner'\n",
    "                    ,on='Driver_ID')\n",
    "\n",
    "final_df = pd.merge(final_df1,final_df2\n",
    "                    ,how='inner'\n",
    "                    ,on='Driver_ID')"
   ]
  },
  {
   "cell_type": "code",
   "execution_count": 21,
   "id": "bae98764",
   "metadata": {},
   "outputs": [],
   "source": [
    "#Drop unwanted columns\n",
    "\n",
    "final_df = final_df.drop(['LastWorkingDate'\n",
    "                          ,'Income_x'\n",
    "                          ,'Income_y'\n",
    "                          ,'Quarterly Rating_x'\n",
    "                          ,'Quarterly Rating_y'\n",
    "                          ,'MMM-YY'\n",
    "                          ] ,axis=1)"
   ]
  },
  {
   "cell_type": "code",
   "execution_count": 22,
   "id": "245089d4",
   "metadata": {},
   "outputs": [],
   "source": [
    "# final_df.rename(columns={'MMM-YY':'Reporting_Date'},inplace=True)\n",
    "# final_df['Reporting_Year'] = final_df['Reporting_Date'].dt.year\n",
    "# final_df['Reporting_Month'] = final_df['Reporting_Date'].dt.month"
   ]
  },
  {
   "cell_type": "code",
   "execution_count": 23,
   "id": "16c57338",
   "metadata": {},
   "outputs": [],
   "source": [
    "#Separate out year and month of joining date\n",
    "\n",
    "final_df['Dateofjoining_Year'] = final_df['Dateofjoining'].dt.year\n",
    "final_df['Dateofjoining_Month'] = final_df['Dateofjoining'].dt.month"
   ]
  },
  {
   "cell_type": "code",
   "execution_count": 24,
   "id": "651d6b2c",
   "metadata": {},
   "outputs": [
    {
     "data": {
      "text/plain": [
       "(2381, 13)"
      ]
     },
     "execution_count": 24,
     "metadata": {},
     "output_type": "execute_result"
    }
   ],
   "source": [
    "#Get final df shape\n",
    "\n",
    "final_df.shape"
   ]
  },
  {
   "cell_type": "code",
   "execution_count": 25,
   "id": "9d76770e",
   "metadata": {},
   "outputs": [],
   "source": [
    "#Rearrange the columns\n",
    "\n",
    "final_df = final_df[['Driver_ID'\n",
    "                     ,'Dateofjoining'\n",
    "                     ,'Dateofjoining_Year'\n",
    "                     ,'Dateofjoining_Month'\n",
    "                     ,'Age'\n",
    "                     ,'Gender'\n",
    "                     ,'City'\n",
    "                     ,'Education_Level'\n",
    "                     ,'Joining Designation'\n",
    "                     ,'Grade'\n",
    "                     ,'Increased_income'\n",
    "                     ,'Increased_rating'\n",
    "                     ,'target']]"
   ]
  },
  {
   "cell_type": "code",
   "execution_count": 26,
   "id": "34cb6ccb",
   "metadata": {},
   "outputs": [
    {
     "data": {
      "text/html": [
       "<div>\n",
       "<style scoped>\n",
       "    .dataframe tbody tr th:only-of-type {\n",
       "        vertical-align: middle;\n",
       "    }\n",
       "\n",
       "    .dataframe tbody tr th {\n",
       "        vertical-align: top;\n",
       "    }\n",
       "\n",
       "    .dataframe thead th {\n",
       "        text-align: right;\n",
       "    }\n",
       "</style>\n",
       "<table border=\"1\" class=\"dataframe\">\n",
       "  <thead>\n",
       "    <tr style=\"text-align: right;\">\n",
       "      <th></th>\n",
       "      <th>Driver_ID</th>\n",
       "      <th>Dateofjoining</th>\n",
       "      <th>Dateofjoining_Year</th>\n",
       "      <th>Dateofjoining_Month</th>\n",
       "      <th>Age</th>\n",
       "      <th>Gender</th>\n",
       "      <th>City</th>\n",
       "      <th>Education_Level</th>\n",
       "      <th>Joining Designation</th>\n",
       "      <th>Grade</th>\n",
       "      <th>Increased_income</th>\n",
       "      <th>Increased_rating</th>\n",
       "      <th>target</th>\n",
       "    </tr>\n",
       "  </thead>\n",
       "  <tbody>\n",
       "    <tr>\n",
       "      <th>0</th>\n",
       "      <td>1</td>\n",
       "      <td>2018-12-24</td>\n",
       "      <td>2018</td>\n",
       "      <td>12</td>\n",
       "      <td>28.0</td>\n",
       "      <td>0.0</td>\n",
       "      <td>C23</td>\n",
       "      <td>2</td>\n",
       "      <td>1</td>\n",
       "      <td>1</td>\n",
       "      <td>0</td>\n",
       "      <td>0</td>\n",
       "      <td>1</td>\n",
       "    </tr>\n",
       "    <tr>\n",
       "      <th>1</th>\n",
       "      <td>2</td>\n",
       "      <td>2020-11-06</td>\n",
       "      <td>2020</td>\n",
       "      <td>11</td>\n",
       "      <td>31.0</td>\n",
       "      <td>0.0</td>\n",
       "      <td>C7</td>\n",
       "      <td>2</td>\n",
       "      <td>2</td>\n",
       "      <td>2</td>\n",
       "      <td>0</td>\n",
       "      <td>0</td>\n",
       "      <td>0</td>\n",
       "    </tr>\n",
       "    <tr>\n",
       "      <th>2</th>\n",
       "      <td>4</td>\n",
       "      <td>2019-12-07</td>\n",
       "      <td>2019</td>\n",
       "      <td>12</td>\n",
       "      <td>43.0</td>\n",
       "      <td>0.0</td>\n",
       "      <td>C13</td>\n",
       "      <td>2</td>\n",
       "      <td>2</td>\n",
       "      <td>2</td>\n",
       "      <td>0</td>\n",
       "      <td>0</td>\n",
       "      <td>1</td>\n",
       "    </tr>\n",
       "    <tr>\n",
       "      <th>3</th>\n",
       "      <td>5</td>\n",
       "      <td>2019-01-09</td>\n",
       "      <td>2019</td>\n",
       "      <td>1</td>\n",
       "      <td>29.0</td>\n",
       "      <td>0.0</td>\n",
       "      <td>C9</td>\n",
       "      <td>0</td>\n",
       "      <td>1</td>\n",
       "      <td>1</td>\n",
       "      <td>0</td>\n",
       "      <td>0</td>\n",
       "      <td>1</td>\n",
       "    </tr>\n",
       "    <tr>\n",
       "      <th>4</th>\n",
       "      <td>6</td>\n",
       "      <td>2020-07-31</td>\n",
       "      <td>2020</td>\n",
       "      <td>7</td>\n",
       "      <td>31.0</td>\n",
       "      <td>1.0</td>\n",
       "      <td>C11</td>\n",
       "      <td>1</td>\n",
       "      <td>3</td>\n",
       "      <td>3</td>\n",
       "      <td>0</td>\n",
       "      <td>1</td>\n",
       "      <td>0</td>\n",
       "    </tr>\n",
       "  </tbody>\n",
       "</table>\n",
       "</div>"
      ],
      "text/plain": [
       "   Driver_ID Dateofjoining  Dateofjoining_Year  Dateofjoining_Month   Age  \\\n",
       "0          1    2018-12-24                2018                   12  28.0   \n",
       "1          2    2020-11-06                2020                   11  31.0   \n",
       "2          4    2019-12-07                2019                   12  43.0   \n",
       "3          5    2019-01-09                2019                    1  29.0   \n",
       "4          6    2020-07-31                2020                    7  31.0   \n",
       "\n",
       "   Gender City  Education_Level  Joining Designation  Grade  Increased_income  \\\n",
       "0     0.0  C23                2                    1      1                 0   \n",
       "1     0.0   C7                2                    2      2                 0   \n",
       "2     0.0  C13                2                    2      2                 0   \n",
       "3     0.0   C9                0                    1      1                 0   \n",
       "4     1.0  C11                1                    3      3                 0   \n",
       "\n",
       "   Increased_rating  target  \n",
       "0                 0       1  \n",
       "1                 0       0  \n",
       "2                 0       1  \n",
       "3                 0       1  \n",
       "4                 1       0  "
      ]
     },
     "execution_count": 26,
     "metadata": {},
     "output_type": "execute_result"
    }
   ],
   "source": [
    "#Get glimpse of final df\n",
    "\n",
    "final_df.head()"
   ]
  },
  {
   "cell_type": "markdown",
   "id": "40028fb1",
   "metadata": {},
   "source": [
    "#### Statistics"
   ]
  },
  {
   "cell_type": "code",
   "execution_count": 27,
   "id": "cc247c21",
   "metadata": {},
   "outputs": [
    {
     "data": {
      "text/html": [
       "<div>\n",
       "<style scoped>\n",
       "    .dataframe tbody tr th:only-of-type {\n",
       "        vertical-align: middle;\n",
       "    }\n",
       "\n",
       "    .dataframe tbody tr th {\n",
       "        vertical-align: top;\n",
       "    }\n",
       "\n",
       "    .dataframe thead th {\n",
       "        text-align: right;\n",
       "    }\n",
       "</style>\n",
       "<table border=\"1\" class=\"dataframe\">\n",
       "  <thead>\n",
       "    <tr style=\"text-align: right;\">\n",
       "      <th></th>\n",
       "      <th>Driver_ID</th>\n",
       "      <th>Dateofjoining_Year</th>\n",
       "      <th>Dateofjoining_Month</th>\n",
       "      <th>Age</th>\n",
       "      <th>Gender</th>\n",
       "      <th>Education_Level</th>\n",
       "      <th>Joining Designation</th>\n",
       "      <th>Grade</th>\n",
       "      <th>Increased_income</th>\n",
       "      <th>Increased_rating</th>\n",
       "      <th>target</th>\n",
       "    </tr>\n",
       "  </thead>\n",
       "  <tbody>\n",
       "    <tr>\n",
       "      <th>count</th>\n",
       "      <td>2381.000000</td>\n",
       "      <td>2381.000000</td>\n",
       "      <td>2381.000000</td>\n",
       "      <td>2381.000000</td>\n",
       "      <td>2381.000000</td>\n",
       "      <td>2381.00000</td>\n",
       "      <td>2381.000000</td>\n",
       "      <td>2381.000000</td>\n",
       "      <td>2381.000000</td>\n",
       "      <td>2381.000000</td>\n",
       "      <td>2381.000000</td>\n",
       "    </tr>\n",
       "    <tr>\n",
       "      <th>mean</th>\n",
       "      <td>1397.559009</td>\n",
       "      <td>2018.536329</td>\n",
       "      <td>7.357413</td>\n",
       "      <td>33.110184</td>\n",
       "      <td>0.417052</td>\n",
       "      <td>1.00756</td>\n",
       "      <td>1.820244</td>\n",
       "      <td>2.078538</td>\n",
       "      <td>0.018060</td>\n",
       "      <td>0.150357</td>\n",
       "      <td>0.678706</td>\n",
       "    </tr>\n",
       "    <tr>\n",
       "      <th>std</th>\n",
       "      <td>806.161628</td>\n",
       "      <td>1.609597</td>\n",
       "      <td>3.143143</td>\n",
       "      <td>5.833198</td>\n",
       "      <td>0.508279</td>\n",
       "      <td>0.81629</td>\n",
       "      <td>0.841433</td>\n",
       "      <td>0.931321</td>\n",
       "      <td>0.133195</td>\n",
       "      <td>0.357496</td>\n",
       "      <td>0.467071</td>\n",
       "    </tr>\n",
       "    <tr>\n",
       "      <th>min</th>\n",
       "      <td>1.000000</td>\n",
       "      <td>2013.000000</td>\n",
       "      <td>1.000000</td>\n",
       "      <td>21.000000</td>\n",
       "      <td>0.000000</td>\n",
       "      <td>0.00000</td>\n",
       "      <td>1.000000</td>\n",
       "      <td>1.000000</td>\n",
       "      <td>0.000000</td>\n",
       "      <td>0.000000</td>\n",
       "      <td>0.000000</td>\n",
       "    </tr>\n",
       "    <tr>\n",
       "      <th>25%</th>\n",
       "      <td>695.000000</td>\n",
       "      <td>2018.000000</td>\n",
       "      <td>5.000000</td>\n",
       "      <td>29.000000</td>\n",
       "      <td>0.000000</td>\n",
       "      <td>0.00000</td>\n",
       "      <td>1.000000</td>\n",
       "      <td>1.000000</td>\n",
       "      <td>0.000000</td>\n",
       "      <td>0.000000</td>\n",
       "      <td>0.000000</td>\n",
       "    </tr>\n",
       "    <tr>\n",
       "      <th>50%</th>\n",
       "      <td>1400.000000</td>\n",
       "      <td>2019.000000</td>\n",
       "      <td>7.000000</td>\n",
       "      <td>33.000000</td>\n",
       "      <td>0.000000</td>\n",
       "      <td>1.00000</td>\n",
       "      <td>2.000000</td>\n",
       "      <td>2.000000</td>\n",
       "      <td>0.000000</td>\n",
       "      <td>0.000000</td>\n",
       "      <td>1.000000</td>\n",
       "    </tr>\n",
       "    <tr>\n",
       "      <th>75%</th>\n",
       "      <td>2100.000000</td>\n",
       "      <td>2020.000000</td>\n",
       "      <td>10.000000</td>\n",
       "      <td>37.000000</td>\n",
       "      <td>1.000000</td>\n",
       "      <td>2.00000</td>\n",
       "      <td>2.000000</td>\n",
       "      <td>3.000000</td>\n",
       "      <td>0.000000</td>\n",
       "      <td>0.000000</td>\n",
       "      <td>1.000000</td>\n",
       "    </tr>\n",
       "    <tr>\n",
       "      <th>max</th>\n",
       "      <td>2788.000000</td>\n",
       "      <td>2020.000000</td>\n",
       "      <td>12.000000</td>\n",
       "      <td>58.000000</td>\n",
       "      <td>3.000000</td>\n",
       "      <td>2.00000</td>\n",
       "      <td>5.000000</td>\n",
       "      <td>5.000000</td>\n",
       "      <td>1.000000</td>\n",
       "      <td>1.000000</td>\n",
       "      <td>1.000000</td>\n",
       "    </tr>\n",
       "  </tbody>\n",
       "</table>\n",
       "</div>"
      ],
      "text/plain": [
       "         Driver_ID  Dateofjoining_Year  Dateofjoining_Month          Age  \\\n",
       "count  2381.000000         2381.000000          2381.000000  2381.000000   \n",
       "mean   1397.559009         2018.536329             7.357413    33.110184   \n",
       "std     806.161628            1.609597             3.143143     5.833198   \n",
       "min       1.000000         2013.000000             1.000000    21.000000   \n",
       "25%     695.000000         2018.000000             5.000000    29.000000   \n",
       "50%    1400.000000         2019.000000             7.000000    33.000000   \n",
       "75%    2100.000000         2020.000000            10.000000    37.000000   \n",
       "max    2788.000000         2020.000000            12.000000    58.000000   \n",
       "\n",
       "            Gender  Education_Level  Joining Designation        Grade  \\\n",
       "count  2381.000000       2381.00000          2381.000000  2381.000000   \n",
       "mean      0.417052          1.00756             1.820244     2.078538   \n",
       "std       0.508279          0.81629             0.841433     0.931321   \n",
       "min       0.000000          0.00000             1.000000     1.000000   \n",
       "25%       0.000000          0.00000             1.000000     1.000000   \n",
       "50%       0.000000          1.00000             2.000000     2.000000   \n",
       "75%       1.000000          2.00000             2.000000     3.000000   \n",
       "max       3.000000          2.00000             5.000000     5.000000   \n",
       "\n",
       "       Increased_income  Increased_rating       target  \n",
       "count       2381.000000       2381.000000  2381.000000  \n",
       "mean           0.018060          0.150357     0.678706  \n",
       "std            0.133195          0.357496     0.467071  \n",
       "min            0.000000          0.000000     0.000000  \n",
       "25%            0.000000          0.000000     0.000000  \n",
       "50%            0.000000          0.000000     1.000000  \n",
       "75%            0.000000          0.000000     1.000000  \n",
       "max            1.000000          1.000000     1.000000  "
      ]
     },
     "execution_count": 27,
     "metadata": {},
     "output_type": "execute_result"
    }
   ],
   "source": [
    "#Get statistical details of final df\n",
    "\n",
    "final_df.describe()"
   ]
  },
  {
   "cell_type": "markdown",
   "id": "402ba24c",
   "metadata": {},
   "source": [
    "#### Correlation"
   ]
  },
  {
   "cell_type": "code",
   "execution_count": 28,
   "id": "7a833d7c",
   "metadata": {},
   "outputs": [
    {
     "data": {
      "image/png": "[encoded data removed]",
      "text/plain": [
       "<Figure size 1152x432 with 2 Axes>"
      ]
     },
     "metadata": {
      "needs_background": "light"
     },
     "output_type": "display_data"
    }
   ],
   "source": [
    "#Plot correlation\n",
    "\n",
    "corr = final_df.corr()\n",
    "\n",
    "plt.figure(figsize=(16,6))\n",
    "mask = np.triu(np.ones_like(corr, dtype=np.bool_))\n",
    "heatmap = sns.heatmap(corr, mask=mask, vmin=-1, vmax=1, annot=True,cmap='BrBG')\n",
    "heatmap.set_title('Heatmap: Correlation Triangle',fontdict={'fontsize':16})\n",
    "plt.grid(linestyle='--')\n",
    "plt.show()"
   ]
  },
  {
   "cell_type": "markdown",
   "id": "b01125b4",
   "metadata": {},
   "source": [
    "#### Univariate and bivariate analysis"
   ]
  },
  {
   "cell_type": "code",
   "execution_count": 29,
   "id": "464b41c8",
   "metadata": {},
   "outputs": [
    {
     "data": {
      "image/png": "[encoded data removed]",
      "text/plain": [
       "<Figure size 1152x2160 with 10 Axes>"
      ]
     },
     "metadata": {
      "needs_background": "light"
     },
     "output_type": "display_data"
    }
   ],
   "source": [
    "#Countplots for categorical variables w.r.t. target variable\n",
    "\n",
    "fig,axes = plt.subplots(5,2,figsize=(16,30))\n",
    "sns.countplot(final_df['target'],ax=axes[0,0]\n",
    "              ,order=final_df['target'].value_counts().index\n",
    "              ,palette='YlGnBu')\n",
    "sns.countplot(final_df['Increased_rating'],hue=final_df['target'],ax=axes[0,1]\n",
    "              ,order=final_df['Increased_rating'].value_counts().index\n",
    "              ,palette='YlGnBu')\n",
    "sns.countplot(final_df['Increased_income'],hue=final_df['target'],ax=axes[1,0]\n",
    "              ,order=final_df['Increased_income'].value_counts().index\n",
    "              ,palette='YlGnBu')\n",
    "sns.countplot(final_df['Grade'],hue=final_df['target'],ax=axes[1,1]\n",
    "              ,order=final_df['Grade'].value_counts().index\n",
    "              ,palette='YlGnBu')\n",
    "sns.countplot(final_df['Joining Designation'],hue=final_df['target'],ax=axes[2,0]\n",
    "              ,order=final_df['Joining Designation'].value_counts().index\n",
    "              ,palette='YlGnBu')\n",
    "sns.countplot(final_df['Education_Level'],hue=final_df['target'],ax=axes[2,1]\n",
    "              ,order=final_df['Education_Level'].value_counts().index\n",
    "              ,palette='YlGnBu')\n",
    "sns.countplot(final_df['City'],hue=final_df['target'],ax=axes[3,0]\n",
    "              ,order=final_df['City'].value_counts().index[:5]\n",
    "              ,palette='YlGnBu')\n",
    "sns.countplot(final_df['Gender'],hue=final_df['target'],ax=axes[3,1]\n",
    "              ,order=final_df['Gender'].value_counts().index\n",
    "              ,palette='YlGnBu')\n",
    "sns.countplot(final_df['Dateofjoining_Year'],hue=final_df['target'],ax=axes[4,0]\n",
    "              ,order=final_df['Dateofjoining_Year'].value_counts().index\n",
    "              ,palette='YlGnBu')\n",
    "sns.countplot(final_df['Dateofjoining_Month'],hue=final_df['target'],ax=axes[4,1]\n",
    "              ,order=final_df['Dateofjoining_Month'].value_counts().index\n",
    "              ,palette='YlGnBu')\n",
    "\n",
    "plt.show()"
   ]
  },
  {
   "cell_type": "code",
   "execution_count": 30,
   "id": "87dd71ff",
   "metadata": {},
   "outputs": [
    {
     "data": {
      "image/png": "[encoded data removed]",
      "text/plain": [
       "<Figure size 1152x432 with 2 Axes>"
      ]
     },
     "metadata": {
      "needs_background": "light"
     },
     "output_type": "display_data"
    }
   ],
   "source": [
    "#Box plot for cont. variable w.r.t. target variable\n",
    "\n",
    "fig,axes = plt.subplots(1,2,figsize=(16,6))\n",
    "sns.boxplot(data=final_df, y='Age', x='target', ax=axes[0],palette='YlGnBu')\n",
    "sns.boxenplot(data=final_df, y='Age', x='target',ax=axes[1],palette='YlGnBu')\n",
    "plt.show()"
   ]
  },
  {
   "cell_type": "code",
   "execution_count": 31,
   "id": "af01fe6d",
   "metadata": {},
   "outputs": [
    {
     "data": {
      "image/png": "[encoded data removed]",
      "text/plain": [
       "<Figure size 1152x360 with 2 Axes>"
      ]
     },
     "metadata": {
      "needs_background": "light"
     },
     "output_type": "display_data"
    }
   ],
   "source": [
    "#Plot distribution of cont. variable \n",
    "\n",
    "fig,axes = plt.subplots(1,2,figsize=(16,5))\n",
    "sns.histplot(final_df['Age'], ax=axes[0])\n",
    "sns.distplot(final_df['Age'], ax=axes[1])\n",
    "plt.show()"
   ]
  },
  {
   "cell_type": "markdown",
   "id": "381793b0",
   "metadata": {},
   "source": [
    "#### Prepare data for model building"
   ]
  },
  {
   "cell_type": "code",
   "execution_count": 32,
   "id": "a7b094a5",
   "metadata": {},
   "outputs": [],
   "source": [
    "#Drop unwanted columns\n",
    "\n",
    "df_ml = final_df.drop(['Driver_ID'\n",
    "                       ,'Dateofjoining'\n",
    "                       ,'Dateofjoining_Year'\n",
    "                       ,'Dateofjoining_Month'], axis=1)"
   ]
  },
  {
   "cell_type": "code",
   "execution_count": 33,
   "id": "9dd688cd",
   "metadata": {},
   "outputs": [],
   "source": [
    "#import libraries \n",
    "\n",
    "from sklearn.preprocessing import OneHotEncoder\n",
    "from sklearn.model_selection import train_test_split\n",
    "from imblearn.over_sampling import SMOTE"
   ]
  },
  {
   "cell_type": "markdown",
   "id": "9c203a11",
   "metadata": {},
   "source": [
    "#### OneHotEncoding"
   ]
  },
  {
   "cell_type": "code",
   "execution_count": 34,
   "id": "637e10b5",
   "metadata": {},
   "outputs": [],
   "source": [
    "#Perform one hot encoding for City column\n",
    "\n",
    "df_ml = pd.get_dummies(df_ml,prefix=[''],columns=['City'])"
   ]
  },
  {
   "cell_type": "code",
   "execution_count": 35,
   "id": "c99f085f",
   "metadata": {},
   "outputs": [],
   "source": [
    "#Check for data imbalance on target variable\n",
    "\n",
    "data_imbalance = pd.DataFrame()\n",
    "data_imbalance['Category'] = df_ml['target'].value_counts().index\n",
    "data_imbalance['Value_Counts'] = df_ml['target'].value_counts().values\n",
    "data_imbalance['Percentage'] = 100*data_imbalance['Value_Counts']/sum(data_imbalance['Value_Counts'])\n",
    "data_imbalance['Percentage'] = round(data_imbalance['Percentage'],2)"
   ]
  },
  {
   "cell_type": "code",
   "execution_count": 36,
   "id": "8def2306",
   "metadata": {},
   "outputs": [
    {
     "data": {
      "image/png": "[encoded data removed]",
      "text/plain": [
       "<Figure size 432x432 with 1 Axes>"
      ]
     },
     "metadata": {},
     "output_type": "display_data"
    }
   ],
   "source": [
    "#Plot data imbalance\n",
    "\n",
    "plt.figure(figsize=(6,6))\n",
    "plt.pie(data_imbalance['Value_Counts']\n",
    "        ,labels=data_imbalance['Category']\n",
    "        ,autopct='%1.1f%%')\n",
    "plt.title('Data imbalance between target variable',fontdict={'weight':'bold'\n",
    "                                                             ,'size':14})\n",
    "plt.show()"
   ]
  },
  {
   "cell_type": "code",
   "execution_count": 37,
   "id": "39cd57c3",
   "metadata": {},
   "outputs": [],
   "source": [
    "#Get input and output variables\n",
    "\n",
    "X = df_ml.drop(['target'], axis=1)\n",
    "y = df_ml['target']"
   ]
  },
  {
   "cell_type": "code",
   "execution_count": 38,
   "id": "5371e1de",
   "metadata": {},
   "outputs": [],
   "source": [
    "#Split train and test data\n",
    "\n",
    "X_train, X_test, y_train, y_test = train_test_split(X, y, test_size=0.20)"
   ]
  },
  {
   "cell_type": "code",
   "execution_count": 39,
   "id": "0ddc018d",
   "metadata": {},
   "outputs": [
    {
     "data": {
      "text/plain": [
       "((1904, 36), (477, 36), (1904,), (477,))"
      ]
     },
     "execution_count": 39,
     "metadata": {},
     "output_type": "execute_result"
    }
   ],
   "source": [
    "#Shape of train and test data\n",
    "\n",
    "X_train.shape, X_test.shape, y_train.shape, y_test.shape"
   ]
  },
  {
   "cell_type": "code",
   "execution_count": 40,
   "id": "3a95c970",
   "metadata": {},
   "outputs": [
    {
     "data": {
      "text/plain": [
       "1    1288\n",
       "0     616\n",
       "Name: target, dtype: int64"
      ]
     },
     "execution_count": 40,
     "metadata": {},
     "output_type": "execute_result"
    }
   ],
   "source": [
    "#target train value counts\n",
    "\n",
    "y_train.value_counts()"
   ]
  },
  {
   "cell_type": "markdown",
   "id": "0512e670",
   "metadata": {},
   "source": [
    "#### Class imbalance treatement"
   ]
  },
  {
   "cell_type": "code",
   "execution_count": 41,
   "id": "f11fbde5",
   "metadata": {},
   "outputs": [],
   "source": [
    "#Smote to balance the classes\n",
    "\n",
    "smt = SMOTE()\n",
    "X_sm, y_sm = smt.fit_resample(X_train, y_train)"
   ]
  },
  {
   "cell_type": "code",
   "execution_count": 42,
   "id": "afdd0ffa",
   "metadata": {},
   "outputs": [
    {
     "data": {
      "text/plain": [
       "((2576, 36), (2576,))"
      ]
     },
     "execution_count": 42,
     "metadata": {},
     "output_type": "execute_result"
    }
   ],
   "source": [
    "#Get shape of balanced data\n",
    "\n",
    "X_sm.shape, y_sm.shape"
   ]
  },
  {
   "cell_type": "code",
   "execution_count": 43,
   "id": "ee51ed09",
   "metadata": {},
   "outputs": [
    {
     "data": {
      "text/plain": [
       "1    1288\n",
       "0    1288\n",
       "Name: target, dtype: int64"
      ]
     },
     "execution_count": 43,
     "metadata": {},
     "output_type": "execute_result"
    }
   ],
   "source": [
    "#Shape of balanced target train variable\n",
    "\n",
    "y_sm.value_counts()"
   ]
  },
  {
   "cell_type": "markdown",
   "id": "4ae8ac84",
   "metadata": {},
   "source": [
    "#### Model Building"
   ]
  },
  {
   "cell_type": "code",
   "execution_count": 44,
   "id": "b257aa44",
   "metadata": {},
   "outputs": [],
   "source": [
    "#Import libraries\n",
    "\n",
    "from sklearn.ensemble import RandomForestClassifier\n",
    "from sklearn.model_selection import KFold, cross_validate\n",
    "from sklearn.model_selection import GridSearchCV\n",
    "from sklearn.model_selection import RandomizedSearchCV\n",
    "from scipy.stats import uniform\n",
    "from sklearn.ensemble import GradientBoostingClassifier as GBC\n",
    "from xgboost import XGBClassifier\n",
    "from sklearn.model_selection import StratifiedKFold"
   ]
  },
  {
   "cell_type": "markdown",
   "id": "9fbdde79",
   "metadata": {},
   "source": [
    "#### Bagging"
   ]
  },
  {
   "cell_type": "markdown",
   "id": "20760303",
   "metadata": {},
   "source": [
    "#### RandomForestClassifier without hyperparameter tuning"
   ]
  },
  {
   "cell_type": "code",
   "execution_count": 45,
   "id": "a9448d56",
   "metadata": {},
   "outputs": [
    {
     "name": "stdout",
     "output_type": "stream",
     "text": [
      "K-Fold Accuracy Mean: Train: 68.8059 | Validation: 63.8416\n",
      "K-Fold Accuracy Std: Train : 1.4447  | Validation: 12.8957\n"
     ]
    }
   ],
   "source": [
    "#Create RandomForestClassifier model\n",
    "\n",
    "rfc = RandomForestClassifier(random_state=42\n",
    "                             ,max_depth=4\n",
    "                             ,n_estimators=100)\n",
    "kfold = KFold(n_splits=10)\n",
    "\n",
    "cv_acc_results = cross_validate(rfc\n",
    "                                ,X_sm\n",
    "                                ,y_sm\n",
    "                                ,cv=kfold\n",
    "                                ,scoring='accuracy'\n",
    "                                ,return_train_score=True)\n",
    "\n",
    "print(f\"K-Fold Accuracy Mean: Train: {round(cv_acc_results['train_score'].mean()*100,4)} | Validation: {round(cv_acc_results['test_score'].mean()*100,4)}\")\n",
    "print(f\"K-Fold Accuracy Std: Train : {round(cv_acc_results['train_score'].std()*100,4)}  | Validation: {round(cv_acc_results['test_score'].std()*100,4)}\")"
   ]
  },
  {
   "cell_type": "markdown",
   "id": "81aec939",
   "metadata": {},
   "source": [
    "#### RandomForestClassifier with hyperparameter tuning : Gridsearch"
   ]
  },
  {
   "cell_type": "code",
   "execution_count": 46,
   "id": "13780e8b",
   "metadata": {},
   "outputs": [],
   "source": [
    "#Do hyperparameter tuning using GridSearchCV\n",
    "\n",
    "params = {\n",
    "          'n_estimators' : [100,200,300,400],\n",
    "          'max_depth' : [10,12,14,16],\n",
    "          'criterion' : ['gini', 'entropy'],\n",
    "          'bootstrap' : [True, False]\n",
    "#          'max_features' : [8,9,10,11,12]\n",
    "         }\n",
    "\n",
    "tuning_function = GridSearchCV(estimator = RandomForestClassifier(random_state=42), \n",
    "                               param_grid = params,\n",
    "                               scoring = 'accuracy',\n",
    "                               cv = 3,\n",
    "                               n_jobs=-1\n",
    "                               )"
   ]
  },
  {
   "cell_type": "code",
   "execution_count": 47,
   "id": "7d379a9c",
   "metadata": {},
   "outputs": [
    {
     "data": {
      "text/html": [
       "<style>#sk-container-id-1 {color: black;background-color: white;}#sk-container-id-1 pre{padding: 0;}#sk-container-id-1 div.sk-toggleable {background-color: white;}#sk-container-id-1 label.sk-toggleable__label {cursor: pointer;display: block;width: 100%;margin-bottom: 0;padding: 0.3em;box-sizing: border-box;text-align: center;}#sk-container-id-1 label.sk-toggleable__label-arrow:before {content: \"▸\";float: left;margin-right: 0.25em;color: #696969;}#sk-container-id-1 label.sk-toggleable__label-arrow:hover:before {color: black;}#sk-container-id-1 div.sk-estimator:hover label.sk-toggleable__label-arrow:before {color: black;}#sk-container-id-1 div.sk-toggleable__content {max-height: 0;max-width: 0;overflow: hidden;text-align: left;background-color: #f0f8ff;}#sk-container-id-1 div.sk-toggleable__content pre {margin: 0.2em;color: black;border-radius: 0.25em;background-color: #f0f8ff;}#sk-container-id-1 input.sk-toggleable__control:checked~div.sk-toggleable__content {max-height: 200px;max-width: 100%;overflow: auto;}#sk-container-id-1 input.sk-toggleable__control:checked~label.sk-toggleable__label-arrow:before {content: \"▾\";}#sk-container-id-1 div.sk-estimator input.sk-toggleable__control:checked~label.sk-toggleable__label {background-color: #d4ebff;}#sk-container-id-1 div.sk-label input.sk-toggleable__control:checked~label.sk-toggleable__label {background-color: #d4ebff;}#sk-container-id-1 input.sk-hidden--visually {border: 0;clip: rect(1px 1px 1px 1px);clip: rect(1px, 1px, 1px, 1px);height: 1px;margin: -1px;overflow: hidden;padding: 0;position: absolute;width: 1px;}#sk-container-id-1 div.sk-estimator {font-family: monospace;background-color: #f0f8ff;border: 1px dotted black;border-radius: 0.25em;box-sizing: border-box;margin-bottom: 0.5em;}#sk-container-id-1 div.sk-estimator:hover {background-color: #d4ebff;}#sk-container-id-1 div.sk-parallel-item::after {content: \"\";width: 100%;border-bottom: 1px solid gray;flex-grow: 1;}#sk-container-id-1 div.sk-label:hover label.sk-toggleable__label {background-color: #d4ebff;}#sk-container-id-1 div.sk-serial::before {content: \"\";position: absolute;border-left: 1px solid gray;box-sizing: border-box;top: 0;bottom: 0;left: 50%;z-index: 0;}#sk-container-id-1 div.sk-serial {display: flex;flex-direction: column;align-items: center;background-color: white;padding-right: 0.2em;padding-left: 0.2em;position: relative;}#sk-container-id-1 div.sk-item {position: relative;z-index: 1;}#sk-container-id-1 div.sk-parallel {display: flex;align-items: stretch;justify-content: center;background-color: white;position: relative;}#sk-container-id-1 div.sk-item::before, #sk-container-id-1 div.sk-parallel-item::before {content: \"\";position: absolute;border-left: 1px solid gray;box-sizing: border-box;top: 0;bottom: 0;left: 50%;z-index: -1;}#sk-container-id-1 div.sk-parallel-item {display: flex;flex-direction: column;z-index: 1;position: relative;background-color: white;}#sk-container-id-1 div.sk-parallel-item:first-child::after {align-self: flex-end;width: 50%;}#sk-container-id-1 div.sk-parallel-item:last-child::after {align-self: flex-start;width: 50%;}#sk-container-id-1 div.sk-parallel-item:only-child::after {width: 0;}#sk-container-id-1 div.sk-dashed-wrapped {border: 1px dashed gray;margin: 0 0.4em 0.5em 0.4em;box-sizing: border-box;padding-bottom: 0.4em;background-color: white;}#sk-container-id-1 div.sk-label label {font-family: monospace;font-weight: bold;display: inline-block;line-height: 1.2em;}#sk-container-id-1 div.sk-label-container {text-align: center;}#sk-container-id-1 div.sk-container {/* jupyter's `normalize.less` sets `[hidden] { display: none; }` but bootstrap.min.css set `[hidden] { display: none !important; }` so we also need the `!important` here to be able to override the default hidden behavior on the sphinx rendered scikit-learn.org. See: https://github.com/scikit-learn/scikit-learn/issues/21755 */display: inline-block !important;position: relative;}#sk-container-id-1 div.sk-text-repr-fallback {display: none;}</style><div id=\"sk-container-id-1\" class=\"sk-top-container\"><div class=\"sk-text-repr-fallback\"><pre>GridSearchCV(cv=3, estimator=RandomForestClassifier(random_state=42), n_jobs=-1,\n",
       "             param_grid={&#x27;bootstrap&#x27;: [True, False],\n",
       "                         &#x27;criterion&#x27;: [&#x27;gini&#x27;, &#x27;entropy&#x27;],\n",
       "                         &#x27;max_depth&#x27;: [10, 12, 14, 16],\n",
       "                         &#x27;n_estimators&#x27;: [100, 200, 300, 400]},\n",
       "             scoring=&#x27;accuracy&#x27;)</pre><b>In a Jupyter environment, please rerun this cell to show the HTML representation or trust the notebook. <br />On GitHub, the HTML representation is unable to render, please try loading this page with nbviewer.org.</b></div><div class=\"sk-container\" hidden><div class=\"sk-item sk-dashed-wrapped\"><div class=\"sk-label-container\"><div class=\"sk-label sk-toggleable\"><input class=\"sk-toggleable__control sk-hidden--visually\" id=\"sk-estimator-id-1\" type=\"checkbox\" ><label for=\"sk-estimator-id-1\" class=\"sk-toggleable__label sk-toggleable__label-arrow\">GridSearchCV</label><div class=\"sk-toggleable__content\"><pre>GridSearchCV(cv=3, estimator=RandomForestClassifier(random_state=42), n_jobs=-1,\n",
       "             param_grid={&#x27;bootstrap&#x27;: [True, False],\n",
       "                         &#x27;criterion&#x27;: [&#x27;gini&#x27;, &#x27;entropy&#x27;],\n",
       "                         &#x27;max_depth&#x27;: [10, 12, 14, 16],\n",
       "                         &#x27;n_estimators&#x27;: [100, 200, 300, 400]},\n",
       "             scoring=&#x27;accuracy&#x27;)</pre></div></div></div><div class=\"sk-parallel\"><div class=\"sk-parallel-item\"><div class=\"sk-item\"><div class=\"sk-label-container\"><div class=\"sk-label sk-toggleable\"><input class=\"sk-toggleable__control sk-hidden--visually\" id=\"sk-estimator-id-2\" type=\"checkbox\" ><label for=\"sk-estimator-id-2\" class=\"sk-toggleable__label sk-toggleable__label-arrow\">estimator: RandomForestClassifier</label><div class=\"sk-toggleable__content\"><pre>RandomForestClassifier(random_state=42)</pre></div></div></div><div class=\"sk-serial\"><div class=\"sk-item\"><div class=\"sk-estimator sk-toggleable\"><input class=\"sk-toggleable__control sk-hidden--visually\" id=\"sk-estimator-id-3\" type=\"checkbox\" ><label for=\"sk-estimator-id-3\" class=\"sk-toggleable__label sk-toggleable__label-arrow\">RandomForestClassifier</label><div class=\"sk-toggleable__content\"><pre>RandomForestClassifier(random_state=42)</pre></div></div></div></div></div></div></div></div></div></div>"
      ],
      "text/plain": [
       "GridSearchCV(cv=3, estimator=RandomForestClassifier(random_state=42), n_jobs=-1,\n",
       "             param_grid={'bootstrap': [True, False],\n",
       "                         'criterion': ['gini', 'entropy'],\n",
       "                         'max_depth': [10, 12, 14, 16],\n",
       "                         'n_estimators': [100, 200, 300, 400]},\n",
       "             scoring='accuracy')"
      ]
     },
     "execution_count": 47,
     "metadata": {},
     "output_type": "execute_result"
    }
   ],
   "source": [
    "#Train and validate on hypermaters\n",
    "\n",
    "tuning_function.fit(X_sm, y_sm)"
   ]
  },
  {
   "cell_type": "code",
   "execution_count": 48,
   "id": "78d82e58",
   "metadata": {},
   "outputs": [
    {
     "name": "stdout",
     "output_type": "stream",
     "text": [
      "Best parameters:  {'bootstrap': True, 'criterion': 'entropy', 'max_depth': 16, 'n_estimators': 200}\n",
      "Best score:  0.720879431007487\n"
     ]
    }
   ],
   "source": [
    "#Print the best parameters and corresponding best score on validation set\n",
    "\n",
    "print('Best parameters: ', tuning_function.best_params_)\n",
    "print('Best score: ', tuning_function.best_score_)"
   ]
  },
  {
   "cell_type": "code",
   "execution_count": 67,
   "id": "2473983d",
   "metadata": {},
   "outputs": [
    {
     "name": "stdout",
     "output_type": "stream",
     "text": [
      "K-Fold Accuracy Mean: Train: 80.3714 | Validation: 68.8573\n",
      "K-Fold Accuracy Std: Train : 0.9171  | Validation: 6.5763\n"
     ]
    }
   ],
   "source": [
    "#Build RandomForestClassifier with best parameters provided by Gridsearch\n",
    "\n",
    "rfc = RandomForestClassifier(random_state=42\n",
    "                             ,bootstrap=True\n",
    "                             ,criterion='entropy'\n",
    "                             ,max_depth=12\n",
    "#                             ,max_features=18\n",
    "                             ,n_estimators=200)\n",
    "kfold = KFold(n_splits=12)\n",
    "\n",
    "cv_acc_results = cross_validate(rfc\n",
    "                                ,X_sm\n",
    "                                ,y_sm\n",
    "                                ,cv=kfold\n",
    "                                ,scoring='accuracy'\n",
    "                                ,return_train_score=True)\n",
    "\n",
    "print(f\"K-Fold Accuracy Mean: Train: {round(cv_acc_results['train_score'].mean()*100,4)} | Validation: {round(cv_acc_results['test_score'].mean()*100,4)}\")\n",
    "print(f\"K-Fold Accuracy Std: Train : {round(cv_acc_results['train_score'].std()*100,4)}  | Validation: {round(cv_acc_results['test_score'].std()*100,4)}\")"
   ]
  },
  {
   "cell_type": "code",
   "execution_count": 53,
   "id": "1b9f2e5f",
   "metadata": {},
   "outputs": [
    {
     "name": "stdout",
     "output_type": "stream",
     "text": [
      "Training accuracy:0.9457\n",
      "Test Accuracy    :0.696\n",
      "[0.22918694 0.07810704 0.07544996 0.05365633 0.07331415 0.01715353\n",
      " 0.13059701 0.00862197 0.01272221 0.00882124 0.01244322 0.0155677\n",
      " 0.01711444 0.01344899 0.01086591 0.01214762 0.00601138 0.00738541\n",
      " 0.01243495 0.02165529 0.00590394 0.01178224 0.01592012 0.01263469\n",
      " 0.01076769 0.01252951 0.01366842 0.01224342 0.01085654 0.01126475\n",
      " 0.0109189  0.00729647 0.01313242 0.01188248 0.01185032 0.01064281]\n"
     ]
    }
   ],
   "source": [
    "#Fit the RandomForestClassifier\n",
    "#Print important features\n",
    "\n",
    "rfc.fit(X_sm,y_sm)\n",
    "\n",
    "print(f\"Training accuracy:{round(rfc.score(X_sm, y_sm),4)}\")\n",
    "print(f\"Test Accuracy    :{round(rfc.score(X_test, y_test),4)}\")\n",
    "print(rfc.feature_importances_)"
   ]
  },
  {
   "cell_type": "markdown",
   "id": "3a75459b",
   "metadata": {},
   "source": [
    "#### RandomForestClassifier with hyperparameter tuning using RandomizedSearch"
   ]
  },
  {
   "cell_type": "code",
   "execution_count": 92,
   "id": "8c192606",
   "metadata": {},
   "outputs": [],
   "source": [
    "#Prepare Randomized Search model for hyperparameter tuning\n",
    "\n",
    "params = {'ccp_alpha': uniform(loc=0, scale=1)}\n",
    "\n",
    "tuning_function = RandomizedSearchCV(estimator=RandomForestClassifier(random_state=42\n",
    "                                                                      ,bootstrap=False\n",
    "                                                                      ,criterion='gini'\n",
    "                                                                      ,max_depth=10\n",
    " #                                                                     ,max_features=18\n",
    "                                                                      ,n_estimators=200), \n",
    "                               param_distributions = params,\n",
    "                               scoring = 'accuracy',\n",
    "                               cv = 5,\n",
    "                               n_iter=15,\n",
    "                               n_jobs=-1\n",
    "                               )"
   ]
  },
  {
   "cell_type": "code",
   "execution_count": 93,
   "id": "8f6b58b6",
   "metadata": {},
   "outputs": [
    {
     "data": {
      "text/html": [
       "<style>#sk-container-id-10 {color: black;background-color: white;}#sk-container-id-10 pre{padding: 0;}#sk-container-id-10 div.sk-toggleable {background-color: white;}#sk-container-id-10 label.sk-toggleable__label {cursor: pointer;display: block;width: 100%;margin-bottom: 0;padding: 0.3em;box-sizing: border-box;text-align: center;}#sk-container-id-10 label.sk-toggleable__label-arrow:before {content: \"▸\";float: left;margin-right: 0.25em;color: #696969;}#sk-container-id-10 label.sk-toggleable__label-arrow:hover:before {color: black;}#sk-container-id-10 div.sk-estimator:hover label.sk-toggleable__label-arrow:before {color: black;}#sk-container-id-10 div.sk-toggleable__content {max-height: 0;max-width: 0;overflow: hidden;text-align: left;background-color: #f0f8ff;}#sk-container-id-10 div.sk-toggleable__content pre {margin: 0.2em;color: black;border-radius: 0.25em;background-color: #f0f8ff;}#sk-container-id-10 input.sk-toggleable__control:checked~div.sk-toggleable__content {max-height: 200px;max-width: 100%;overflow: auto;}#sk-container-id-10 input.sk-toggleable__control:checked~label.sk-toggleable__label-arrow:before {content: \"▾\";}#sk-container-id-10 div.sk-estimator input.sk-toggleable__control:checked~label.sk-toggleable__label {background-color: #d4ebff;}#sk-container-id-10 div.sk-label input.sk-toggleable__control:checked~label.sk-toggleable__label {background-color: #d4ebff;}#sk-container-id-10 input.sk-hidden--visually {border: 0;clip: rect(1px 1px 1px 1px);clip: rect(1px, 1px, 1px, 1px);height: 1px;margin: -1px;overflow: hidden;padding: 0;position: absolute;width: 1px;}#sk-container-id-10 div.sk-estimator {font-family: monospace;background-color: #f0f8ff;border: 1px dotted black;border-radius: 0.25em;box-sizing: border-box;margin-bottom: 0.5em;}#sk-container-id-10 div.sk-estimator:hover {background-color: #d4ebff;}#sk-container-id-10 div.sk-parallel-item::after {content: \"\";width: 100%;border-bottom: 1px solid gray;flex-grow: 1;}#sk-container-id-10 div.sk-label:hover label.sk-toggleable__label {background-color: #d4ebff;}#sk-container-id-10 div.sk-serial::before {content: \"\";position: absolute;border-left: 1px solid gray;box-sizing: border-box;top: 0;bottom: 0;left: 50%;z-index: 0;}#sk-container-id-10 div.sk-serial {display: flex;flex-direction: column;align-items: center;background-color: white;padding-right: 0.2em;padding-left: 0.2em;position: relative;}#sk-container-id-10 div.sk-item {position: relative;z-index: 1;}#sk-container-id-10 div.sk-parallel {display: flex;align-items: stretch;justify-content: center;background-color: white;position: relative;}#sk-container-id-10 div.sk-item::before, #sk-container-id-10 div.sk-parallel-item::before {content: \"\";position: absolute;border-left: 1px solid gray;box-sizing: border-box;top: 0;bottom: 0;left: 50%;z-index: -1;}#sk-container-id-10 div.sk-parallel-item {display: flex;flex-direction: column;z-index: 1;position: relative;background-color: white;}#sk-container-id-10 div.sk-parallel-item:first-child::after {align-self: flex-end;width: 50%;}#sk-container-id-10 div.sk-parallel-item:last-child::after {align-self: flex-start;width: 50%;}#sk-container-id-10 div.sk-parallel-item:only-child::after {width: 0;}#sk-container-id-10 div.sk-dashed-wrapped {border: 1px dashed gray;margin: 0 0.4em 0.5em 0.4em;box-sizing: border-box;padding-bottom: 0.4em;background-color: white;}#sk-container-id-10 div.sk-label label {font-family: monospace;font-weight: bold;display: inline-block;line-height: 1.2em;}#sk-container-id-10 div.sk-label-container {text-align: center;}#sk-container-id-10 div.sk-container {/* jupyter's `normalize.less` sets `[hidden] { display: none; }` but bootstrap.min.css set `[hidden] { display: none !important; }` so we also need the `!important` here to be able to override the default hidden behavior on the sphinx rendered scikit-learn.org. See: https://github.com/scikit-learn/scikit-learn/issues/21755 */display: inline-block !important;position: relative;}#sk-container-id-10 div.sk-text-repr-fallback {display: none;}</style><div id=\"sk-container-id-10\" class=\"sk-top-container\"><div class=\"sk-text-repr-fallback\"><pre>RandomizedSearchCV(cv=5,\n",
       "                   estimator=RandomForestClassifier(bootstrap=False,\n",
       "                                                    max_depth=10,\n",
       "                                                    n_estimators=200,\n",
       "                                                    random_state=42),\n",
       "                   n_iter=15, n_jobs=-1,\n",
       "                   param_distributions={&#x27;ccp_alpha&#x27;: &lt;scipy.stats._distn_infrastructure.rv_frozen object at 0x7f4c956479d0&gt;},\n",
       "                   scoring=&#x27;accuracy&#x27;)</pre><b>In a Jupyter environment, please rerun this cell to show the HTML representation or trust the notebook. <br />On GitHub, the HTML representation is unable to render, please try loading this page with nbviewer.org.</b></div><div class=\"sk-container\" hidden><div class=\"sk-item sk-dashed-wrapped\"><div class=\"sk-label-container\"><div class=\"sk-label sk-toggleable\"><input class=\"sk-toggleable__control sk-hidden--visually\" id=\"sk-estimator-id-28\" type=\"checkbox\" ><label for=\"sk-estimator-id-28\" class=\"sk-toggleable__label sk-toggleable__label-arrow\">RandomizedSearchCV</label><div class=\"sk-toggleable__content\"><pre>RandomizedSearchCV(cv=5,\n",
       "                   estimator=RandomForestClassifier(bootstrap=False,\n",
       "                                                    max_depth=10,\n",
       "                                                    n_estimators=200,\n",
       "                                                    random_state=42),\n",
       "                   n_iter=15, n_jobs=-1,\n",
       "                   param_distributions={&#x27;ccp_alpha&#x27;: &lt;scipy.stats._distn_infrastructure.rv_frozen object at 0x7f4c956479d0&gt;},\n",
       "                   scoring=&#x27;accuracy&#x27;)</pre></div></div></div><div class=\"sk-parallel\"><div class=\"sk-parallel-item\"><div class=\"sk-item\"><div class=\"sk-label-container\"><div class=\"sk-label sk-toggleable\"><input class=\"sk-toggleable__control sk-hidden--visually\" id=\"sk-estimator-id-29\" type=\"checkbox\" ><label for=\"sk-estimator-id-29\" class=\"sk-toggleable__label sk-toggleable__label-arrow\">estimator: RandomForestClassifier</label><div class=\"sk-toggleable__content\"><pre>RandomForestClassifier(bootstrap=False, max_depth=10, n_estimators=200,\n",
       "                       random_state=42)</pre></div></div></div><div class=\"sk-serial\"><div class=\"sk-item\"><div class=\"sk-estimator sk-toggleable\"><input class=\"sk-toggleable__control sk-hidden--visually\" id=\"sk-estimator-id-30\" type=\"checkbox\" ><label for=\"sk-estimator-id-30\" class=\"sk-toggleable__label sk-toggleable__label-arrow\">RandomForestClassifier</label><div class=\"sk-toggleable__content\"><pre>RandomForestClassifier(bootstrap=False, max_depth=10, n_estimators=200,\n",
       "                       random_state=42)</pre></div></div></div></div></div></div></div></div></div></div>"
      ],
      "text/plain": [
       "RandomizedSearchCV(cv=5,\n",
       "                   estimator=RandomForestClassifier(bootstrap=False,\n",
       "                                                    max_depth=10,\n",
       "                                                    n_estimators=200,\n",
       "                                                    random_state=42),\n",
       "                   n_iter=15, n_jobs=-1,\n",
       "                   param_distributions={'ccp_alpha': <scipy.stats._distn_infrastructure.rv_frozen object at 0x7f4c956479d0>},\n",
       "                   scoring='accuracy')"
      ]
     },
     "execution_count": 93,
     "metadata": {},
     "output_type": "execute_result"
    }
   ],
   "source": [
    "#fit the model\n",
    "\n",
    "tuning_function.fit(X_sm, y_sm)"
   ]
  },
  {
   "cell_type": "code",
   "execution_count": 94,
   "id": "ae3f03d9",
   "metadata": {},
   "outputs": [
    {
     "name": "stdout",
     "output_type": "stream",
     "text": [
      "Best parameters:  {'ccp_alpha': 0.02729354605963863}\n",
      "Best score:  0.6176059306088657\n"
     ]
    }
   ],
   "source": [
    "#Print best params and best score\n",
    "\n",
    "print('Best parameters: ', tuning_function.best_params_)\n",
    "print('Best score: ', tuning_function.best_score_)"
   ]
  },
  {
   "cell_type": "markdown",
   "id": "db852392",
   "metadata": {},
   "source": [
    "#### Bootstrap"
   ]
  },
  {
   "cell_type": "markdown",
   "id": "91db8cc8",
   "metadata": {},
   "source": [
    "#### GBDT without hyperparameter tuning"
   ]
  },
  {
   "cell_type": "code",
   "execution_count": 96,
   "id": "4bf7c298",
   "metadata": {},
   "outputs": [
    {
     "name": "stdout",
     "output_type": "stream",
     "text": [
      "      Iter       Train Loss   Remaining Time \n",
      "         1           1.3273            1.28s\n",
      "         2           1.2865            1.16s\n",
      "         3           1.2569            1.11s\n",
      "         4           1.2333            1.08s\n",
      "         5           1.2151            1.04s\n",
      "         6           1.2000            1.03s\n",
      "         7           1.1864            1.03s\n",
      "         8           1.1762            1.03s\n",
      "         9           1.1664            1.01s\n",
      "        10           1.1568            1.00s\n",
      "        20           1.0685            0.97s\n",
      "        30           0.9990            0.83s\n",
      "        40           0.9490            0.71s\n",
      "        50           0.9021            0.62s\n",
      "        60           0.8611            0.58s\n",
      "        70           0.8256            0.52s\n",
      "        80           0.7936            0.46s\n",
      "        90           0.7658            0.41s\n",
      "       100           0.7347            0.37s\n",
      "       200           0.5474            0.00s\n"
     ]
    },
    {
     "data": {
      "text/html": [
       "<style>#sk-container-id-12 {color: black;background-color: white;}#sk-container-id-12 pre{padding: 0;}#sk-container-id-12 div.sk-toggleable {background-color: white;}#sk-container-id-12 label.sk-toggleable__label {cursor: pointer;display: block;width: 100%;margin-bottom: 0;padding: 0.3em;box-sizing: border-box;text-align: center;}#sk-container-id-12 label.sk-toggleable__label-arrow:before {content: \"▸\";float: left;margin-right: 0.25em;color: #696969;}#sk-container-id-12 label.sk-toggleable__label-arrow:hover:before {color: black;}#sk-container-id-12 div.sk-estimator:hover label.sk-toggleable__label-arrow:before {color: black;}#sk-container-id-12 div.sk-toggleable__content {max-height: 0;max-width: 0;overflow: hidden;text-align: left;background-color: #f0f8ff;}#sk-container-id-12 div.sk-toggleable__content pre {margin: 0.2em;color: black;border-radius: 0.25em;background-color: #f0f8ff;}#sk-container-id-12 input.sk-toggleable__control:checked~div.sk-toggleable__content {max-height: 200px;max-width: 100%;overflow: auto;}#sk-container-id-12 input.sk-toggleable__control:checked~label.sk-toggleable__label-arrow:before {content: \"▾\";}#sk-container-id-12 div.sk-estimator input.sk-toggleable__control:checked~label.sk-toggleable__label {background-color: #d4ebff;}#sk-container-id-12 div.sk-label input.sk-toggleable__control:checked~label.sk-toggleable__label {background-color: #d4ebff;}#sk-container-id-12 input.sk-hidden--visually {border: 0;clip: rect(1px 1px 1px 1px);clip: rect(1px, 1px, 1px, 1px);height: 1px;margin: -1px;overflow: hidden;padding: 0;position: absolute;width: 1px;}#sk-container-id-12 div.sk-estimator {font-family: monospace;background-color: #f0f8ff;border: 1px dotted black;border-radius: 0.25em;box-sizing: border-box;margin-bottom: 0.5em;}#sk-container-id-12 div.sk-estimator:hover {background-color: #d4ebff;}#sk-container-id-12 div.sk-parallel-item::after {content: \"\";width: 100%;border-bottom: 1px solid gray;flex-grow: 1;}#sk-container-id-12 div.sk-label:hover label.sk-toggleable__label {background-color: #d4ebff;}#sk-container-id-12 div.sk-serial::before {content: \"\";position: absolute;border-left: 1px solid gray;box-sizing: border-box;top: 0;bottom: 0;left: 50%;z-index: 0;}#sk-container-id-12 div.sk-serial {display: flex;flex-direction: column;align-items: center;background-color: white;padding-right: 0.2em;padding-left: 0.2em;position: relative;}#sk-container-id-12 div.sk-item {position: relative;z-index: 1;}#sk-container-id-12 div.sk-parallel {display: flex;align-items: stretch;justify-content: center;background-color: white;position: relative;}#sk-container-id-12 div.sk-item::before, #sk-container-id-12 div.sk-parallel-item::before {content: \"\";position: absolute;border-left: 1px solid gray;box-sizing: border-box;top: 0;bottom: 0;left: 50%;z-index: -1;}#sk-container-id-12 div.sk-parallel-item {display: flex;flex-direction: column;z-index: 1;position: relative;background-color: white;}#sk-container-id-12 div.sk-parallel-item:first-child::after {align-self: flex-end;width: 50%;}#sk-container-id-12 div.sk-parallel-item:last-child::after {align-self: flex-start;width: 50%;}#sk-container-id-12 div.sk-parallel-item:only-child::after {width: 0;}#sk-container-id-12 div.sk-dashed-wrapped {border: 1px dashed gray;margin: 0 0.4em 0.5em 0.4em;box-sizing: border-box;padding-bottom: 0.4em;background-color: white;}#sk-container-id-12 div.sk-label label {font-family: monospace;font-weight: bold;display: inline-block;line-height: 1.2em;}#sk-container-id-12 div.sk-label-container {text-align: center;}#sk-container-id-12 div.sk-container {/* jupyter's `normalize.less` sets `[hidden] { display: none; }` but bootstrap.min.css set `[hidden] { display: none !important; }` so we also need the `!important` here to be able to override the default hidden behavior on the sphinx rendered scikit-learn.org. See: https://github.com/scikit-learn/scikit-learn/issues/21755 */display: inline-block !important;position: relative;}#sk-container-id-12 div.sk-text-repr-fallback {display: none;}</style><div id=\"sk-container-id-12\" class=\"sk-top-container\"><div class=\"sk-text-repr-fallback\"><pre>GradientBoostingClassifier(learning_rate=0.2, max_depth=4, n_estimators=200,\n",
       "                           random_state=42, verbose=1)</pre><b>In a Jupyter environment, please rerun this cell to show the HTML representation or trust the notebook. <br />On GitHub, the HTML representation is unable to render, please try loading this page with nbviewer.org.</b></div><div class=\"sk-container\" hidden><div class=\"sk-item\"><div class=\"sk-estimator sk-toggleable\"><input class=\"sk-toggleable__control sk-hidden--visually\" id=\"sk-estimator-id-32\" type=\"checkbox\" checked><label for=\"sk-estimator-id-32\" class=\"sk-toggleable__label sk-toggleable__label-arrow\">GradientBoostingClassifier</label><div class=\"sk-toggleable__content\"><pre>GradientBoostingClassifier(learning_rate=0.2, max_depth=4, n_estimators=200,\n",
       "                           random_state=42, verbose=1)</pre></div></div></div></div></div>"
      ],
      "text/plain": [
       "GradientBoostingClassifier(learning_rate=0.2, max_depth=4, n_estimators=200,\n",
       "                           random_state=42, verbose=1)"
      ]
     },
     "execution_count": 96,
     "metadata": {},
     "output_type": "execute_result"
    }
   ],
   "source": [
    "#Prepare gbc model\n",
    "\n",
    "gbc = GBC(n_estimators=200\n",
    "          ,learning_rate=0.2\n",
    "          ,max_depth=4\n",
    "          ,random_state=42\n",
    "          ,verbose = 1)\n",
    "\n",
    "#Fit gbc model\n",
    "\n",
    "gbc.fit(X_sm, y_sm)"
   ]
  },
  {
   "cell_type": "code",
   "execution_count": 97,
   "id": "1fa15d02",
   "metadata": {},
   "outputs": [
    {
     "name": "stdout",
     "output_type": "stream",
     "text": [
      "Training accuracy:0.92\n",
      "Test Accuracy    :0.71\n",
      "[0.18522292 0.07722277 0.05392806 0.04476595 0.10898599 0.01755096\n",
      " 0.17152876 0.00889285 0.01142708 0.0093885  0.01089527 0.01562974\n",
      " 0.01766037 0.01459877 0.01040805 0.01261493 0.00630642 0.0068488\n",
      " 0.01257215 0.02461897 0.00684319 0.00933408 0.01827236 0.01240702\n",
      " 0.01116424 0.01468411 0.01350518 0.01264791 0.00959517 0.00978925\n",
      " 0.01034652 0.00612116 0.01374504 0.01111666 0.01035115 0.00900964]\n"
     ]
    }
   ],
   "source": [
    "#Print accuracy score for train and test\n",
    "#Print feature weights\n",
    "\n",
    "print(f\"Training accuracy:{round(gbc.score(X_sm, y_sm),2)}\")\n",
    "print(f\"Test Accuracy    :{round(gbc.score(X_test, y_test),2)}\")\n",
    "print(gbc.feature_importances_)"
   ]
  },
  {
   "cell_type": "markdown",
   "id": "6398db7b",
   "metadata": {},
   "source": [
    "#### GBDT using hyperparameter tuning"
   ]
  },
  {
   "cell_type": "code",
   "execution_count": 98,
   "id": "36d93e39",
   "metadata": {},
   "outputs": [],
   "source": [
    "#Prepare xgboost model \n",
    "\n",
    "params = {\n",
    "        'learning_rate': [0.1, 0.2, 0.5, 0.8],\n",
    "#        'subsample': [0.4, 0.6, 0.8, 1.0],\n",
    "#        'colsample_bytree': [0.4, 0.6, 0.8, 1.0],\n",
    "        'max_depth': [3, 4, 5, 6]\n",
    "        }\n",
    "xgb = XGBClassifier(n_estimators=300\n",
    "#                    , objective='multi:softmax'\n",
    "#                    , num_class=20\n",
    "                    , silent=True)"
   ]
  },
  {
   "cell_type": "code",
   "execution_count": 99,
   "id": "abe086b3",
   "metadata": {},
   "outputs": [],
   "source": [
    "#Perform randomsized search technique to get the best parameters\n",
    "\n",
    "folds = 5\n",
    "skf = StratifiedKFold(n_splits=folds, shuffle = True, random_state = 42)\n",
    "\n",
    "random_search = RandomizedSearchCV(xgb\n",
    "                                   ,param_distributions=params\n",
    "                                   ,n_iter=10\n",
    "                                   ,scoring='accuracy'\n",
    "                                   ,n_jobs=4\n",
    "                                   ,cv=skf.split(X_sm,y_sm)\n",
    "                                   ,verbose=3\n",
    "                                   ,random_state=42 )"
   ]
  },
  {
   "cell_type": "code",
   "execution_count": 100,
   "id": "d91a7f76",
   "metadata": {},
   "outputs": [
    {
     "name": "stdout",
     "output_type": "stream",
     "text": [
      "Fitting 5 folds for each of 10 candidates, totalling 50 fits\n",
      "[18:18:23] WARNING: ../src/learner.cc:767: \n",
      "Parameters: { \"silent\" } are not used.\n",
      "\n"
     ]
    },
    {
     "data": {
      "text/html": [
       "<style>#sk-container-id-13 {color: black;background-color: white;}#sk-container-id-13 pre{padding: 0;}#sk-container-id-13 div.sk-toggleable {background-color: white;}#sk-container-id-13 label.sk-toggleable__label {cursor: pointer;display: block;width: 100%;margin-bottom: 0;padding: 0.3em;box-sizing: border-box;text-align: center;}#sk-container-id-13 label.sk-toggleable__label-arrow:before {content: \"▸\";float: left;margin-right: 0.25em;color: #696969;}#sk-container-id-13 label.sk-toggleable__label-arrow:hover:before {color: black;}#sk-container-id-13 div.sk-estimator:hover label.sk-toggleable__label-arrow:before {color: black;}#sk-container-id-13 div.sk-toggleable__content {max-height: 0;max-width: 0;overflow: hidden;text-align: left;background-color: #f0f8ff;}#sk-container-id-13 div.sk-toggleable__content pre {margin: 0.2em;color: black;border-radius: 0.25em;background-color: #f0f8ff;}#sk-container-id-13 input.sk-toggleable__control:checked~div.sk-toggleable__content {max-height: 200px;max-width: 100%;overflow: auto;}#sk-container-id-13 input.sk-toggleable__control:checked~label.sk-toggleable__label-arrow:before {content: \"▾\";}#sk-container-id-13 div.sk-estimator input.sk-toggleable__control:checked~label.sk-toggleable__label {background-color: #d4ebff;}#sk-container-id-13 div.sk-label input.sk-toggleable__control:checked~label.sk-toggleable__label {background-color: #d4ebff;}#sk-container-id-13 input.sk-hidden--visually {border: 0;clip: rect(1px 1px 1px 1px);clip: rect(1px, 1px, 1px, 1px);height: 1px;margin: -1px;overflow: hidden;padding: 0;position: absolute;width: 1px;}#sk-container-id-13 div.sk-estimator {font-family: monospace;background-color: #f0f8ff;border: 1px dotted black;border-radius: 0.25em;box-sizing: border-box;margin-bottom: 0.5em;}#sk-container-id-13 div.sk-estimator:hover {background-color: #d4ebff;}#sk-container-id-13 div.sk-parallel-item::after {content: \"\";width: 100%;border-bottom: 1px solid gray;flex-grow: 1;}#sk-container-id-13 div.sk-label:hover label.sk-toggleable__label {background-color: #d4ebff;}#sk-container-id-13 div.sk-serial::before {content: \"\";position: absolute;border-left: 1px solid gray;box-sizing: border-box;top: 0;bottom: 0;left: 50%;z-index: 0;}#sk-container-id-13 div.sk-serial {display: flex;flex-direction: column;align-items: center;background-color: white;padding-right: 0.2em;padding-left: 0.2em;position: relative;}#sk-container-id-13 div.sk-item {position: relative;z-index: 1;}#sk-container-id-13 div.sk-parallel {display: flex;align-items: stretch;justify-content: center;background-color: white;position: relative;}#sk-container-id-13 div.sk-item::before, #sk-container-id-13 div.sk-parallel-item::before {content: \"\";position: absolute;border-left: 1px solid gray;box-sizing: border-box;top: 0;bottom: 0;left: 50%;z-index: -1;}#sk-container-id-13 div.sk-parallel-item {display: flex;flex-direction: column;z-index: 1;position: relative;background-color: white;}#sk-container-id-13 div.sk-parallel-item:first-child::after {align-self: flex-end;width: 50%;}#sk-container-id-13 div.sk-parallel-item:last-child::after {align-self: flex-start;width: 50%;}#sk-container-id-13 div.sk-parallel-item:only-child::after {width: 0;}#sk-container-id-13 div.sk-dashed-wrapped {border: 1px dashed gray;margin: 0 0.4em 0.5em 0.4em;box-sizing: border-box;padding-bottom: 0.4em;background-color: white;}#sk-container-id-13 div.sk-label label {font-family: monospace;font-weight: bold;display: inline-block;line-height: 1.2em;}#sk-container-id-13 div.sk-label-container {text-align: center;}#sk-container-id-13 div.sk-container {/* jupyter's `normalize.less` sets `[hidden] { display: none; }` but bootstrap.min.css set `[hidden] { display: none !important; }` so we also need the `!important` here to be able to override the default hidden behavior on the sphinx rendered scikit-learn.org. See: https://github.com/scikit-learn/scikit-learn/issues/21755 */display: inline-block !important;position: relative;}#sk-container-id-13 div.sk-text-repr-fallback {display: none;}</style><div id=\"sk-container-id-13\" class=\"sk-top-container\"><div class=\"sk-text-repr-fallback\"><pre>RandomizedSearchCV(cv=&lt;generator object _BaseKFold.split at 0x7f4c955a04a0&gt;,\n",
       "                   estimator=XGBClassifier(base_score=None, booster=None,\n",
       "                                           callbacks=None,\n",
       "                                           colsample_bylevel=None,\n",
       "                                           colsample_bynode=None,\n",
       "                                           colsample_bytree=None,\n",
       "                                           early_stopping_rounds=None,\n",
       "                                           enable_categorical=False,\n",
       "                                           eval_metric=None, feature_types=None,\n",
       "                                           gamma=None, gpu_id=None,\n",
       "                                           grow_policy=None,\n",
       "                                           importance_type...\n",
       "                                           max_cat_to_onehot=None,\n",
       "                                           max_delta_step=None, max_depth=None,\n",
       "                                           max_leaves=None,\n",
       "                                           min_child_weight=None, missing=nan,\n",
       "                                           monotone_constraints=None,\n",
       "                                           n_estimators=300, n_jobs=None,\n",
       "                                           num_parallel_tree=None,\n",
       "                                           predictor=None, random_state=None, ...),\n",
       "                   n_jobs=4,\n",
       "                   param_distributions={&#x27;learning_rate&#x27;: [0.1, 0.2, 0.5, 0.8],\n",
       "                                        &#x27;max_depth&#x27;: [3, 4, 5, 6]},\n",
       "                   random_state=42, scoring=&#x27;accuracy&#x27;, verbose=3)</pre><b>In a Jupyter environment, please rerun this cell to show the HTML representation or trust the notebook. <br />On GitHub, the HTML representation is unable to render, please try loading this page with nbviewer.org.</b></div><div class=\"sk-container\" hidden><div class=\"sk-item sk-dashed-wrapped\"><div class=\"sk-label-container\"><div class=\"sk-label sk-toggleable\"><input class=\"sk-toggleable__control sk-hidden--visually\" id=\"sk-estimator-id-33\" type=\"checkbox\" ><label for=\"sk-estimator-id-33\" class=\"sk-toggleable__label sk-toggleable__label-arrow\">RandomizedSearchCV</label><div class=\"sk-toggleable__content\"><pre>RandomizedSearchCV(cv=&lt;generator object _BaseKFold.split at 0x7f4c955a04a0&gt;,\n",
       "                   estimator=XGBClassifier(base_score=None, booster=None,\n",
       "                                           callbacks=None,\n",
       "                                           colsample_bylevel=None,\n",
       "                                           colsample_bynode=None,\n",
       "                                           colsample_bytree=None,\n",
       "                                           early_stopping_rounds=None,\n",
       "                                           enable_categorical=False,\n",
       "                                           eval_metric=None, feature_types=None,\n",
       "                                           gamma=None, gpu_id=None,\n",
       "                                           grow_policy=None,\n",
       "                                           importance_type...\n",
       "                                           max_cat_to_onehot=None,\n",
       "                                           max_delta_step=None, max_depth=None,\n",
       "                                           max_leaves=None,\n",
       "                                           min_child_weight=None, missing=nan,\n",
       "                                           monotone_constraints=None,\n",
       "                                           n_estimators=300, n_jobs=None,\n",
       "                                           num_parallel_tree=None,\n",
       "                                           predictor=None, random_state=None, ...),\n",
       "                   n_jobs=4,\n",
       "                   param_distributions={&#x27;learning_rate&#x27;: [0.1, 0.2, 0.5, 0.8],\n",
       "                                        &#x27;max_depth&#x27;: [3, 4, 5, 6]},\n",
       "                   random_state=42, scoring=&#x27;accuracy&#x27;, verbose=3)</pre></div></div></div><div class=\"sk-parallel\"><div class=\"sk-parallel-item\"><div class=\"sk-item\"><div class=\"sk-label-container\"><div class=\"sk-label sk-toggleable\"><input class=\"sk-toggleable__control sk-hidden--visually\" id=\"sk-estimator-id-34\" type=\"checkbox\" ><label for=\"sk-estimator-id-34\" class=\"sk-toggleable__label sk-toggleable__label-arrow\">estimator: XGBClassifier</label><div class=\"sk-toggleable__content\"><pre>XGBClassifier(base_score=None, booster=None, callbacks=None,\n",
       "              colsample_bylevel=None, colsample_bynode=None,\n",
       "              colsample_bytree=None, early_stopping_rounds=None,\n",
       "              enable_categorical=False, eval_metric=None, feature_types=None,\n",
       "              gamma=None, gpu_id=None, grow_policy=None, importance_type=None,\n",
       "              interaction_constraints=None, learning_rate=None, max_bin=None,\n",
       "              max_cat_threshold=None, max_cat_to_onehot=None,\n",
       "              max_delta_step=None, max_depth=None, max_leaves=None,\n",
       "              min_child_weight=None, missing=nan, monotone_constraints=None,\n",
       "              n_estimators=300, n_jobs=None, num_parallel_tree=None,\n",
       "              predictor=None, random_state=None, ...)</pre></div></div></div><div class=\"sk-serial\"><div class=\"sk-item\"><div class=\"sk-estimator sk-toggleable\"><input class=\"sk-toggleable__control sk-hidden--visually\" id=\"sk-estimator-id-35\" type=\"checkbox\" ><label for=\"sk-estimator-id-35\" class=\"sk-toggleable__label sk-toggleable__label-arrow\">XGBClassifier</label><div class=\"sk-toggleable__content\"><pre>XGBClassifier(base_score=None, booster=None, callbacks=None,\n",
       "              colsample_bylevel=None, colsample_bynode=None,\n",
       "              colsample_bytree=None, early_stopping_rounds=None,\n",
       "              enable_categorical=False, eval_metric=None, feature_types=None,\n",
       "              gamma=None, gpu_id=None, grow_policy=None, importance_type=None,\n",
       "              interaction_constraints=None, learning_rate=None, max_bin=None,\n",
       "              max_cat_threshold=None, max_cat_to_onehot=None,\n",
       "              max_delta_step=None, max_depth=None, max_leaves=None,\n",
       "              min_child_weight=None, missing=nan, monotone_constraints=None,\n",
       "              n_estimators=300, n_jobs=None, num_parallel_tree=None,\n",
       "              predictor=None, random_state=None, ...)</pre></div></div></div></div></div></div></div></div></div></div>"
      ],
      "text/plain": [
       "RandomizedSearchCV(cv=<generator object _BaseKFold.split at 0x7f4c955a04a0>,\n",
       "                   estimator=XGBClassifier(base_score=None, booster=None,\n",
       "                                           callbacks=None,\n",
       "                                           colsample_bylevel=None,\n",
       "                                           colsample_bynode=None,\n",
       "                                           colsample_bytree=None,\n",
       "                                           early_stopping_rounds=None,\n",
       "                                           enable_categorical=False,\n",
       "                                           eval_metric=None, feature_types=None,\n",
       "                                           gamma=None, gpu_id=None,\n",
       "                                           grow_policy=None,\n",
       "                                           importance_type...\n",
       "                                           max_cat_to_onehot=None,\n",
       "                                           max_delta_step=None, max_depth=None,\n",
       "                                           max_leaves=None,\n",
       "                                           min_child_weight=None, missing=nan,\n",
       "                                           monotone_constraints=None,\n",
       "                                           n_estimators=300, n_jobs=None,\n",
       "                                           num_parallel_tree=None,\n",
       "                                           predictor=None, random_state=None, ...),\n",
       "                   n_jobs=4,\n",
       "                   param_distributions={'learning_rate': [0.1, 0.2, 0.5, 0.8],\n",
       "                                        'max_depth': [3, 4, 5, 6]},\n",
       "                   random_state=42, scoring='accuracy', verbose=3)"
      ]
     },
     "execution_count": 100,
     "metadata": {},
     "output_type": "execute_result"
    }
   ],
   "source": [
    "#Fit the model\n",
    "\n",
    "random_search.fit(X_sm, y_sm)"
   ]
  },
  {
   "cell_type": "code",
   "execution_count": 101,
   "id": "01d42199",
   "metadata": {},
   "outputs": [
    {
     "data": {
      "text/plain": [
       "{'max_depth': 4, 'learning_rate': 0.5}"
      ]
     },
     "execution_count": 101,
     "metadata": {},
     "output_type": "execute_result"
    }
   ],
   "source": [
    "#Print best params\n",
    "\n",
    "random_search.best_params_"
   ]
  },
  {
   "cell_type": "code",
   "execution_count": 102,
   "id": "ec3f779e",
   "metadata": {},
   "outputs": [
    {
     "name": "stdout",
     "output_type": "stream",
     "text": [
      "[18:18:56] WARNING: ../src/learner.cc:767: \n",
      "Parameters: { \"silent\" } are not used.\n",
      "\n"
     ]
    },
    {
     "data": {
      "text/html": [
       "<style>#sk-container-id-14 {color: black;background-color: white;}#sk-container-id-14 pre{padding: 0;}#sk-container-id-14 div.sk-toggleable {background-color: white;}#sk-container-id-14 label.sk-toggleable__label {cursor: pointer;display: block;width: 100%;margin-bottom: 0;padding: 0.3em;box-sizing: border-box;text-align: center;}#sk-container-id-14 label.sk-toggleable__label-arrow:before {content: \"▸\";float: left;margin-right: 0.25em;color: #696969;}#sk-container-id-14 label.sk-toggleable__label-arrow:hover:before {color: black;}#sk-container-id-14 div.sk-estimator:hover label.sk-toggleable__label-arrow:before {color: black;}#sk-container-id-14 div.sk-toggleable__content {max-height: 0;max-width: 0;overflow: hidden;text-align: left;background-color: #f0f8ff;}#sk-container-id-14 div.sk-toggleable__content pre {margin: 0.2em;color: black;border-radius: 0.25em;background-color: #f0f8ff;}#sk-container-id-14 input.sk-toggleable__control:checked~div.sk-toggleable__content {max-height: 200px;max-width: 100%;overflow: auto;}#sk-container-id-14 input.sk-toggleable__control:checked~label.sk-toggleable__label-arrow:before {content: \"▾\";}#sk-container-id-14 div.sk-estimator input.sk-toggleable__control:checked~label.sk-toggleable__label {background-color: #d4ebff;}#sk-container-id-14 div.sk-label input.sk-toggleable__control:checked~label.sk-toggleable__label {background-color: #d4ebff;}#sk-container-id-14 input.sk-hidden--visually {border: 0;clip: rect(1px 1px 1px 1px);clip: rect(1px, 1px, 1px, 1px);height: 1px;margin: -1px;overflow: hidden;padding: 0;position: absolute;width: 1px;}#sk-container-id-14 div.sk-estimator {font-family: monospace;background-color: #f0f8ff;border: 1px dotted black;border-radius: 0.25em;box-sizing: border-box;margin-bottom: 0.5em;}#sk-container-id-14 div.sk-estimator:hover {background-color: #d4ebff;}#sk-container-id-14 div.sk-parallel-item::after {content: \"\";width: 100%;border-bottom: 1px solid gray;flex-grow: 1;}#sk-container-id-14 div.sk-label:hover label.sk-toggleable__label {background-color: #d4ebff;}#sk-container-id-14 div.sk-serial::before {content: \"\";position: absolute;border-left: 1px solid gray;box-sizing: border-box;top: 0;bottom: 0;left: 50%;z-index: 0;}#sk-container-id-14 div.sk-serial {display: flex;flex-direction: column;align-items: center;background-color: white;padding-right: 0.2em;padding-left: 0.2em;position: relative;}#sk-container-id-14 div.sk-item {position: relative;z-index: 1;}#sk-container-id-14 div.sk-parallel {display: flex;align-items: stretch;justify-content: center;background-color: white;position: relative;}#sk-container-id-14 div.sk-item::before, #sk-container-id-14 div.sk-parallel-item::before {content: \"\";position: absolute;border-left: 1px solid gray;box-sizing: border-box;top: 0;bottom: 0;left: 50%;z-index: -1;}#sk-container-id-14 div.sk-parallel-item {display: flex;flex-direction: column;z-index: 1;position: relative;background-color: white;}#sk-container-id-14 div.sk-parallel-item:first-child::after {align-self: flex-end;width: 50%;}#sk-container-id-14 div.sk-parallel-item:last-child::after {align-self: flex-start;width: 50%;}#sk-container-id-14 div.sk-parallel-item:only-child::after {width: 0;}#sk-container-id-14 div.sk-dashed-wrapped {border: 1px dashed gray;margin: 0 0.4em 0.5em 0.4em;box-sizing: border-box;padding-bottom: 0.4em;background-color: white;}#sk-container-id-14 div.sk-label label {font-family: monospace;font-weight: bold;display: inline-block;line-height: 1.2em;}#sk-container-id-14 div.sk-label-container {text-align: center;}#sk-container-id-14 div.sk-container {/* jupyter's `normalize.less` sets `[hidden] { display: none; }` but bootstrap.min.css set `[hidden] { display: none !important; }` so we also need the `!important` here to be able to override the default hidden behavior on the sphinx rendered scikit-learn.org. See: https://github.com/scikit-learn/scikit-learn/issues/21755 */display: inline-block !important;position: relative;}#sk-container-id-14 div.sk-text-repr-fallback {display: none;}</style><div id=\"sk-container-id-14\" class=\"sk-top-container\"><div class=\"sk-text-repr-fallback\"><pre>XGBClassifier(base_score=0.5, booster=&#x27;gbtree&#x27;, callbacks=None,\n",
       "              colsample_bylevel=1, colsample_bynode=1, colsample_bytree=1,\n",
       "              early_stopping_rounds=None, enable_categorical=False,\n",
       "              eval_metric=None, feature_types=None, gamma=0, gpu_id=-1,\n",
       "              grow_policy=&#x27;depthwise&#x27;, importance_type=None,\n",
       "              interaction_constraints=&#x27;&#x27;, learning_rate=0.5, max_bin=256,\n",
       "              max_cat_threshold=64, max_cat_to_onehot=4, max_delta_step=0,\n",
       "              max_depth=4, max_leaves=0, min_child_weight=1, missing=nan,\n",
       "              monotone_constraints=&#x27;()&#x27;, n_estimators=300, n_jobs=0,\n",
       "              num_parallel_tree=1, predictor=&#x27;auto&#x27;, random_state=0, ...)</pre><b>In a Jupyter environment, please rerun this cell to show the HTML representation or trust the notebook. <br />On GitHub, the HTML representation is unable to render, please try loading this page with nbviewer.org.</b></div><div class=\"sk-container\" hidden><div class=\"sk-item\"><div class=\"sk-estimator sk-toggleable\"><input class=\"sk-toggleable__control sk-hidden--visually\" id=\"sk-estimator-id-36\" type=\"checkbox\" checked><label for=\"sk-estimator-id-36\" class=\"sk-toggleable__label sk-toggleable__label-arrow\">XGBClassifier</label><div class=\"sk-toggleable__content\"><pre>XGBClassifier(base_score=0.5, booster=&#x27;gbtree&#x27;, callbacks=None,\n",
       "              colsample_bylevel=1, colsample_bynode=1, colsample_bytree=1,\n",
       "              early_stopping_rounds=None, enable_categorical=False,\n",
       "              eval_metric=None, feature_types=None, gamma=0, gpu_id=-1,\n",
       "              grow_policy=&#x27;depthwise&#x27;, importance_type=None,\n",
       "              interaction_constraints=&#x27;&#x27;, learning_rate=0.5, max_bin=256,\n",
       "              max_cat_threshold=64, max_cat_to_onehot=4, max_delta_step=0,\n",
       "              max_depth=4, max_leaves=0, min_child_weight=1, missing=nan,\n",
       "              monotone_constraints=&#x27;()&#x27;, n_estimators=300, n_jobs=0,\n",
       "              num_parallel_tree=1, predictor=&#x27;auto&#x27;, random_state=0, ...)</pre></div></div></div></div></div>"
      ],
      "text/plain": [
       "XGBClassifier(base_score=0.5, booster='gbtree', callbacks=None,\n",
       "              colsample_bylevel=1, colsample_bynode=1, colsample_bytree=1,\n",
       "              early_stopping_rounds=None, enable_categorical=False,\n",
       "              eval_metric=None, feature_types=None, gamma=0, gpu_id=-1,\n",
       "              grow_policy='depthwise', importance_type=None,\n",
       "              interaction_constraints='', learning_rate=0.5, max_bin=256,\n",
       "              max_cat_threshold=64, max_cat_to_onehot=4, max_delta_step=0,\n",
       "              max_depth=4, max_leaves=0, min_child_weight=1, missing=nan,\n",
       "              monotone_constraints='()', n_estimators=300, n_jobs=0,\n",
       "              num_parallel_tree=1, predictor='auto', random_state=0, ...)"
      ]
     },
     "execution_count": 102,
     "metadata": {},
     "output_type": "execute_result"
    }
   ],
   "source": [
    "#Prepare xgboost model using best parameters\n",
    "\n",
    "best_xgb = XGBClassifier(n_estimators=300\n",
    "#                         ,objective='multi:softmax'\n",
    "#                         ,num_class=20\n",
    "#                         ,subsample=0.6\n",
    "                         ,max_depth=4\n",
    "                         ,learning_rate=0.5\n",
    "#                         ,colsample_bytree=0.4\n",
    "                         ,silent=True)\n",
    "#fit the model\n",
    "\n",
    "best_xgb.fit(X_sm, y_sm)"
   ]
  },
  {
   "cell_type": "code",
   "execution_count": 103,
   "id": "0a626faf",
   "metadata": {},
   "outputs": [
    {
     "name": "stdout",
     "output_type": "stream",
     "text": [
      "Training accuracy:0.94\n",
      "Test Accuracy    :0.7\n",
      "[0.01229063 0.02353914 0.01300833 0.01563607 0.02224434 0.06264051\n",
      " 0.11356995 0.02080983 0.02382904 0.0235223  0.02125725 0.03504054\n",
      " 0.03901531 0.02876423 0.02200101 0.02494406 0.0194694  0.02128033\n",
      " 0.02595642 0.0324132  0.02073774 0.02195585 0.03629418 0.02684841\n",
      " 0.02735407 0.0272454  0.02981721 0.02651545 0.02129011 0.02211406\n",
      " 0.02691846 0.0152661  0.02994184 0.0218766  0.02295459 0.02163815]\n"
     ]
    }
   ],
   "source": [
    "#Print train and test accuracy on xgboost\n",
    "\n",
    "print(f\"Training accuracy:{round(best_xgb.score(X_sm, y_sm),2)}\")\n",
    "print(f\"Test Accuracy    :{round(best_xgb.score(X_test, y_test),2)}\")\n",
    "print(best_xgb.feature_importances_)"
   ]
  },
  {
   "cell_type": "code",
   "execution_count": 104,
   "id": "57aa5069",
   "metadata": {},
   "outputs": [
    {
     "data": {
      "image/png": "[encoded data removed]",
      "text/plain": [
       "<Figure size 1080x504 with 1 Axes>"
      ]
     },
     "metadata": {
      "needs_background": "light"
     },
     "output_type": "display_data"
    }
   ],
   "source": [
    "#Plot the important features in descending order\n",
    "\n",
    "importances = best_xgb.feature_importances_\n",
    "indices = np.argsort(importances)[::-1] \n",
    "names = [X_sm.columns[i] for i in indices]\n",
    "plt.figure(figsize=(15, 7)) \n",
    "plt.title(\"Feature Importance\") \n",
    "plt.bar(range(X_sm.shape[1]), importances[indices]) \n",
    "plt.xticks(range(X_sm.shape[1]), names, rotation=90) \n",
    "plt.show() "
   ]
  },
  {
   "cell_type": "markdown",
   "id": "f86cf3ce",
   "metadata": {},
   "source": [
    "#### ROC AUC Curve and Classification Report"
   ]
  },
  {
   "cell_type": "code",
   "execution_count": 105,
   "id": "a796b813",
   "metadata": {},
   "outputs": [],
   "source": [
    "#Import libraries\n",
    "\n",
    "from sklearn.metrics import precision_score, recall_score, f1_score\n",
    "from sklearn.metrics import confusion_matrix, ConfusionMatrixDisplay, classification_report\n",
    "from sklearn.metrics import roc_curve, roc_auc_score, plot_confusion_matrix\n",
    "from sklearn.metrics import precision_recall_curve, auc"
   ]
  },
  {
   "cell_type": "code",
   "execution_count": 106,
   "id": "4397fef5",
   "metadata": {},
   "outputs": [],
   "source": [
    "#Predict y values of target\n",
    "\n",
    "y_pred = best_xgb.predict(X_test)\n",
    "y_pred_proba = best_xgb.predict_proba(X_test)"
   ]
  },
  {
   "cell_type": "code",
   "execution_count": 107,
   "id": "ca8a5e81",
   "metadata": {},
   "outputs": [
    {
     "name": "stdout",
     "output_type": "stream",
     "text": [
      "              precision    recall  f1-score   support\n",
      "\n",
      "           0       0.53      0.47      0.50       149\n",
      "           1       0.77      0.81      0.79       328\n",
      "\n",
      "    accuracy                           0.70       477\n",
      "   macro avg       0.65      0.64      0.64       477\n",
      "weighted avg       0.70      0.70      0.70       477\n",
      "\n"
     ]
    }
   ],
   "source": [
    "#Print classification report/metrics\n",
    "\n",
    "print(classification_report(y_test,y_pred))"
   ]
  },
  {
   "cell_type": "code",
   "execution_count": 108,
   "id": "64305726",
   "metadata": {},
   "outputs": [
    {
     "data": {
      "image/png": "[encoded data removed]",
      "text/plain": [
       "<Figure size 720x576 with 1 Axes>"
      ]
     },
     "metadata": {
      "needs_background": "light"
     },
     "output_type": "display_data"
    }
   ],
   "source": [
    "#Roc Curve\n",
    "random_probs = [0 for i in range(len(y_test))]\n",
    "\n",
    "p_fpr, p_tpr, _ = roc_curve(y_test, random_probs, pos_label=1)\n",
    "\n",
    "fpr, tpr, thresh = roc_curve(y_test, y_pred_proba[:,1], pos_label=1)\n",
    "\n",
    "plt.figure(figsize=(10,8))\n",
    "plt.plot(fpr, tpr, linestyle='--',color='darkorange', label='Logistic Regression')\n",
    "plt.plot(p_fpr, p_tpr, linestyle='--', color='darkblue', label='No Skill Classifier')\n",
    "plt.title('ROC curve')\n",
    "plt.xlabel('False Positive Rate')\n",
    "plt.ylabel('True Positive rate')\n",
    "plt.legend(loc='best')\n",
    "plt.show()"
   ]
  },
  {
   "cell_type": "code",
   "execution_count": 109,
   "id": "0eb5fe8a",
   "metadata": {},
   "outputs": [
    {
     "data": {
      "text/plain": [
       "0.66"
      ]
     },
     "execution_count": 109,
     "metadata": {},
     "output_type": "execute_result"
    }
   ],
   "source": [
    "#Get ROC AUC score\n",
    "\n",
    "roc_auc_score(y_test, y_pred_proba[:,1]).round(2)"
   ]
  },
  {
   "cell_type": "markdown",
   "id": "7d0ebdd1",
   "metadata": {},
   "source": [
    "#### Confusion Matrix"
   ]
  },
  {
   "cell_type": "code",
   "execution_count": 110,
   "id": "7e3ff124",
   "metadata": {},
   "outputs": [
    {
     "data": {
      "image/png": "[encoded data removed]",
      "text/plain": [
       "<Figure size 432x288 with 2 Axes>"
      ]
     },
     "metadata": {
      "needs_background": "light"
     },
     "output_type": "display_data"
    }
   ],
   "source": [
    "cm = confusion_matrix(y_test, y_pred)\n",
    "ConfusionMatrixDisplay(cm).plot()\n",
    "plt.grid()\n",
    "plt.show()"
   ]
  },
  {
   "cell_type": "markdown",
   "id": "162801b5",
   "metadata": {},
   "source": [
    "#### Note"
   ]
  },
  {
   "cell_type": "markdown",
   "id": "e83c1b27",
   "metadata": {},
   "source": [
    "1. The model accuracy is 0.71\n",
    "2. ROC Auc score shows that there is a scope for improvement of model accuracy\n",
    "3. Need to peform better hyperparameter tuning\n",
    "4. Hyperparameter tunning will need more time. So currently submitting the case study with reasonable model and not the best one"
   ]
  },
  {
   "cell_type": "markdown",
   "id": "2406a4af",
   "metadata": {},
   "source": [
    "#### Observations & Recommendations"
   ]
  },
  {
   "cell_type": "markdown",
   "id": "ce8db8e8",
   "metadata": {},
   "source": [
    "Observations:\n",
    "\n",
    "1. The most important parameters to predict Churn are ratings and income\n",
    "2. Driver's have left if there has been no increase in income and ratings\n",
    "3. Most of the people that have left are with Grade 2 and 1\n",
    "4. Most of the people that have left are from cities C20 and C15\n",
    "5. Most of the people that have left are with the designation 1 and 2\n",
    "\n",
    "Recommendations:\n",
    "1. Please consider providing market compatible incentives to the employees\n",
    "2. Consider the city allowances based on cities standards of living\n",
    "3. Rating is one of most influential factor, so please consider ways to keep driver's motivated\n"
   ]
  },
  {
   "cell_type": "code",
   "execution_count": null,
   "id": "40f72a04",
   "metadata": {},
   "outputs": [],
   "source": []
  }
 ],
 "metadata": {
  "kernelspec": {
   "display_name": "Python 3.6.7 64-bit ('anaconda3': virtualenv)",
   "language": "python",
   "name": "python367jvsc74a57bd05a385d6a601cdfb62232e737b1fe5bc0000b63f293a93945d25901b329df466d"
  },
  "language_info": {
   "codemirror_mode": {
    "name": "ipython",
    "version": 3
   },
   "file_extension": ".py",
   "mimetype": "text/x-python",
   "name": "python",
   "nbconvert_exporter": "python",
   "pygments_lexer": "ipython3",
   "version": "3.8.2"
  }
 },
 "nbformat": 4,
 "nbformat_minor": 5
}
